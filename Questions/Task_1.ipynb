{
 "cells": [
  {
   "cell_type": "code",
   "execution_count": 2,
   "id": "2cb3b8a5-a6b9-4530-a660-d10a762b29e4",
   "metadata": {},
   "outputs": [],
   "source": [
    "# Task 1\n",
    "#Remove duplicates \n",
    "a=[2,3,4,2,3,4,8,9,12,\"apple\",'Apple']"
   ]
  },
  {
   "cell_type": "code",
   "execution_count": null,
   "id": "18253b51-6ce1-435f-95dc-f6360aca8224",
   "metadata": {},
   "outputs": [],
   "source": [
    "# Task 2\n",
    "# slice 'apple' from the give variable\n",
    "B='i need an apple'"
   ]
  },
  {
   "cell_type": "markdown",
   "id": "e876aa22-a61f-4241-935c-f5c7d4186827",
   "metadata": {},
   "source": [
    "### Task-3\n",
    "create a function for \n",
    " - add both number when both number are even, \n",
    " - multiple when both number are not a even number"
   ]
  },
  {
   "cell_type": "markdown",
   "id": "939c6a2e-d319-4069-8d0f-0c74277b23b9",
   "metadata": {},
   "source": [
    "## Task-4\n",
    "create a module and excute the module for the above task-3"
   ]
  },
  {
   "cell_type": "markdown",
   "id": "ae381069-d0ca-4b50-92e0-fc2927509aa9",
   "metadata": {},
   "source": [
    "# Task-5\n",
    "Write a Python program to display a multiplication table(8th table) using for loop."
   ]
  }
 ],
 "metadata": {
  "kernelspec": {
   "display_name": "Python 3 (ipykernel)",
   "language": "python",
   "name": "python3"
  },
  "language_info": {
   "codemirror_mode": {
    "name": "ipython",
    "version": 3
   },
   "file_extension": ".py",
   "mimetype": "text/x-python",
   "name": "python",
   "nbconvert_exporter": "python",
   "pygments_lexer": "ipython3",
   "version": "3.10.7"
  },
  "widgets": {
   "application/vnd.jupyter.widget-state+json": {
    "state": {},
    "version_major": 2,
    "version_minor": 0
   }
  }
 },
 "nbformat": 4,
 "nbformat_minor": 5
}
