{
 "cells": [
  {
   "cell_type": "markdown",
   "id": "5c559ff5",
   "metadata": {},
   "source": [
    "# Python Basics"
   ]
  },
  {
   "cell_type": "markdown",
   "id": "eb404a96",
   "metadata": {},
   "source": [
    "## Variable - to store data values\n",
    "- not start a number,symbol\n",
    "- no gap\n",
    "- solud in left side and use ' = '\n",
    "- caps variable are different\n",
    "- variables are updatable\n",
    "\n",
    "\n"
   ]
  },
  {
   "cell_type": "code",
   "execution_count": 1,
   "id": "fba12448",
   "metadata": {},
   "outputs": [
    {
     "data": {
      "text/plain": [
       "1"
      ]
     },
     "execution_count": 1,
     "metadata": {},
     "output_type": "execute_result"
    }
   ],
   "source": [
    "a1=1\n",
    "a1          # variable"
   ]
  },
  {
   "cell_type": "code",
   "execution_count": 2,
   "id": "439c43cc",
   "metadata": {},
   "outputs": [],
   "source": [
    "a,b,c=1,2,3"
   ]
  },
  {
   "cell_type": "code",
   "execution_count": 3,
   "id": "86400891",
   "metadata": {},
   "outputs": [
    {
     "name": "stdout",
     "output_type": "stream",
     "text": [
      "1 2 3\n"
     ]
    }
   ],
   "source": [
    "print(a,b,c)"
   ]
  },
  {
   "cell_type": "markdown",
   "id": "26925eb2",
   "metadata": {},
   "source": [
    "# Data Types\n",
    "\n",
    "- int,float,complex_number\n",
    "- str\n",
    "- bool\n",
    "- list,tuple,set,dict\n",
    "\n",
    "\n",
    "To find type of the data use \n",
    "- type(a)"
   ]
  },
  {
   "cell_type": "markdown",
   "id": "d5af75f2",
   "metadata": {},
   "source": [
    "# Number Datatypes\n",
    "## int\n",
    "- whole numbers \n",
    "- example: 2\n",
    "\n",
    "## float\n",
    "- decimal value\n",
    "- example: 2.3\n",
    "\n",
    "## complex_number\n",
    "- example: 1+3J"
   ]
  },
  {
   "cell_type": "code",
   "execution_count": 4,
   "id": "81303a34",
   "metadata": {},
   "outputs": [
    {
     "data": {
      "text/plain": [
       "int"
      ]
     },
     "execution_count": 4,
     "metadata": {},
     "output_type": "execute_result"
    }
   ],
   "source": [
    "a=1\n",
    "type(a)"
   ]
  },
  {
   "cell_type": "code",
   "execution_count": 5,
   "id": "7224cad8",
   "metadata": {},
   "outputs": [
    {
     "data": {
      "text/plain": [
       "float"
      ]
     },
     "execution_count": 5,
     "metadata": {},
     "output_type": "execute_result"
    }
   ],
   "source": [
    "d=3.1\n",
    "type(d)"
   ]
  },
  {
   "cell_type": "code",
   "execution_count": 6,
   "id": "f70ab0a3",
   "metadata": {},
   "outputs": [
    {
     "data": {
      "text/plain": [
       "float"
      ]
     },
     "execution_count": 6,
     "metadata": {},
     "output_type": "execute_result"
    }
   ],
   "source": [
    "s=3.0\n",
    "type(s)"
   ]
  },
  {
   "cell_type": "code",
   "execution_count": 7,
   "id": "bff291ea",
   "metadata": {},
   "outputs": [
    {
     "data": {
      "text/plain": [
       "complex"
      ]
     },
     "execution_count": 7,
     "metadata": {},
     "output_type": "execute_result"
    }
   ],
   "source": [
    "type(1+3J)"
   ]
  },
  {
   "cell_type": "markdown",
   "id": "90ad042e",
   "metadata": {},
   "source": [
    "# Text Type\n",
    "\n",
    "## String (str)\n",
    "- use \" \"\n",
    "- u can use single, dobule or triple \" \""
   ]
  },
  {
   "cell_type": "code",
   "execution_count": 8,
   "id": "7b0c29a0",
   "metadata": {},
   "outputs": [],
   "source": [
    "f='i am happy'"
   ]
  },
  {
   "cell_type": "code",
   "execution_count": 9,
   "id": "4e251b4a",
   "metadata": {},
   "outputs": [
    {
     "data": {
      "text/plain": [
       "'i am happy'"
      ]
     },
     "execution_count": 9,
     "metadata": {},
     "output_type": "execute_result"
    }
   ],
   "source": [
    "f"
   ]
  },
  {
   "cell_type": "code",
   "execution_count": 10,
   "id": "8b4d1fb2",
   "metadata": {},
   "outputs": [
    {
     "data": {
      "text/plain": [
       "str"
      ]
     },
     "execution_count": 10,
     "metadata": {},
     "output_type": "execute_result"
    }
   ],
   "source": [
    "type(f)"
   ]
  },
  {
   "cell_type": "code",
   "execution_count": 11,
   "id": "d61c35fe",
   "metadata": {},
   "outputs": [
    {
     "data": {
      "text/plain": [
       "\"dad's money\""
      ]
     },
     "execution_count": 11,
     "metadata": {},
     "output_type": "execute_result"
    }
   ],
   "source": [
    "g= \"dad's money\"\n",
    "g"
   ]
  },
  {
   "cell_type": "markdown",
   "id": "66c3b95a",
   "metadata": {},
   "source": [
    "# Index\n",
    "- starts with 0\n",
    "- use[ ]\n",
    "- include white space while indexing"
   ]
  },
  {
   "cell_type": "code",
   "execution_count": 12,
   "id": "73201c5e",
   "metadata": {},
   "outputs": [],
   "source": [
    "f='i am happy'"
   ]
  },
  {
   "cell_type": "code",
   "execution_count": 13,
   "id": "2424a903",
   "metadata": {},
   "outputs": [
    {
     "data": {
      "text/plain": [
       "'i'"
      ]
     },
     "execution_count": 13,
     "metadata": {},
     "output_type": "execute_result"
    }
   ],
   "source": [
    "f[0]"
   ]
  },
  {
   "cell_type": "code",
   "execution_count": 14,
   "id": "fc76040a",
   "metadata": {},
   "outputs": [
    {
     "data": {
      "text/plain": [
       "' '"
      ]
     },
     "execution_count": 14,
     "metadata": {},
     "output_type": "execute_result"
    }
   ],
   "source": [
    "f[1]"
   ]
  },
  {
   "cell_type": "markdown",
   "id": "44590d51",
   "metadata": {},
   "source": [
    "# String Slicing\n",
    "- while slicing u need to add exta index (end)"
   ]
  },
  {
   "cell_type": "code",
   "execution_count": 15,
   "id": "65d9fe4d",
   "metadata": {},
   "outputs": [
    {
     "data": {
      "text/plain": [
       "'walk'"
      ]
     },
     "execution_count": 15,
     "metadata": {},
     "output_type": "execute_result"
    }
   ],
   "source": [
    "f='dance walk'\n",
    "f[6:10]"
   ]
  },
  {
   "cell_type": "code",
   "execution_count": 16,
   "id": "1129fabc",
   "metadata": {},
   "outputs": [
    {
     "data": {
      "text/plain": [
       "'dance'"
      ]
     },
     "execution_count": 16,
     "metadata": {},
     "output_type": "execute_result"
    }
   ],
   "source": [
    "f[-10:-5]"
   ]
  },
  {
   "cell_type": "code",
   "execution_count": null,
   "id": "374e2782",
   "metadata": {},
   "outputs": [],
   "source": []
  },
  {
   "cell_type": "markdown",
   "id": "5c612d01",
   "metadata": {},
   "source": [
    "## String concatination"
   ]
  },
  {
   "cell_type": "code",
   "execution_count": 17,
   "id": "31afc2b9",
   "metadata": {},
   "outputs": [],
   "source": [
    "a='i am '\n",
    "b='sabari '"
   ]
  },
  {
   "cell_type": "code",
   "execution_count": 18,
   "id": "dcb3292a",
   "metadata": {},
   "outputs": [],
   "source": [
    "c=a+b"
   ]
  },
  {
   "cell_type": "code",
   "execution_count": 19,
   "id": "6e5a08a9",
   "metadata": {},
   "outputs": [
    {
     "data": {
      "text/plain": [
       "'i am sabari '"
      ]
     },
     "execution_count": 19,
     "metadata": {},
     "output_type": "execute_result"
    }
   ],
   "source": [
    "c"
   ]
  },
  {
   "cell_type": "code",
   "execution_count": 20,
   "id": "7d32c354",
   "metadata": {},
   "outputs": [
    {
     "data": {
      "text/plain": [
       "'i am sabari i am sabari i am sabari '"
      ]
     },
     "execution_count": 20,
     "metadata": {},
     "output_type": "execute_result"
    }
   ],
   "source": [
    "3*c"
   ]
  },
  {
   "cell_type": "code",
   "execution_count": 21,
   "id": "bba73635",
   "metadata": {},
   "outputs": [
    {
     "data": {
      "text/plain": [
       "False"
      ]
     },
     "execution_count": 21,
     "metadata": {},
     "output_type": "execute_result"
    }
   ],
   "source": [
    "a.isalpha()"
   ]
  },
  {
   "cell_type": "code",
   "execution_count": 22,
   "id": "867ddac4",
   "metadata": {},
   "outputs": [
    {
     "data": {
      "text/plain": [
       "True"
      ]
     },
     "execution_count": 22,
     "metadata": {},
     "output_type": "execute_result"
    }
   ],
   "source": [
    "a='1'\n",
    "a.isnumeric()"
   ]
  },
  {
   "cell_type": "code",
   "execution_count": 23,
   "id": "77173517",
   "metadata": {},
   "outputs": [
    {
     "name": "stdout",
     "output_type": "stream",
     "text": [
      "sabari\n",
      "i am sabari\n"
     ]
    }
   ],
   "source": [
    "b= input()\n",
    "a='i am ' +b \n",
    "print(a)"
   ]
  },
  {
   "cell_type": "code",
   "execution_count": 24,
   "id": "a9050f6d",
   "metadata": {},
   "outputs": [
    {
     "name": "stdout",
     "output_type": "stream",
     "text": [
      "player name is kholi bating at 3\n"
     ]
    }
   ],
   "source": [
    "a='kholi'\n",
    "b='3'\n",
    "print(f'player name is {a} bating at {b}')"
   ]
  },
  {
   "cell_type": "code",
   "execution_count": 25,
   "id": "006ed8c9",
   "metadata": {},
   "outputs": [
    {
     "name": "stdout",
     "output_type": "stream",
     "text": [
      "player name is kholi bating at 3\n"
     ]
    }
   ],
   "source": [
    "a='kholi'\n",
    "b='3'\n",
    "print('player name is {} bating at {}'.format(a,b))"
   ]
  },
  {
   "cell_type": "code",
   "execution_count": 26,
   "id": "589c19ec",
   "metadata": {},
   "outputs": [],
   "source": [
    "a='kholi 1'"
   ]
  },
  {
   "cell_type": "code",
   "execution_count": 27,
   "id": "df1fceb6",
   "metadata": {},
   "outputs": [
    {
     "data": {
      "text/plain": [
       "'dholi 1'"
      ]
     },
     "execution_count": 27,
     "metadata": {},
     "output_type": "execute_result"
    }
   ],
   "source": [
    "a.replace('k','d')"
   ]
  },
  {
   "cell_type": "code",
   "execution_count": 28,
   "id": "b57d4ed0",
   "metadata": {},
   "outputs": [],
   "source": [
    "b=a.lower()"
   ]
  },
  {
   "cell_type": "code",
   "execution_count": 29,
   "id": "535ffe29",
   "metadata": {},
   "outputs": [
    {
     "data": {
      "text/plain": [
       "True"
      ]
     },
     "execution_count": 29,
     "metadata": {},
     "output_type": "execute_result"
    }
   ],
   "source": [
    "b.islower()"
   ]
  },
  {
   "cell_type": "code",
   "execution_count": 30,
   "id": "a249dd90",
   "metadata": {},
   "outputs": [],
   "source": [
    "a= '  i am goood g '\n",
    "a=a.strip()"
   ]
  },
  {
   "cell_type": "code",
   "execution_count": 31,
   "id": "dde6cd13",
   "metadata": {},
   "outputs": [
    {
     "data": {
      "text/plain": [
       "'i b goood g'"
      ]
     },
     "execution_count": 31,
     "metadata": {},
     "output_type": "execute_result"
    }
   ],
   "source": [
    "a.replace('am', 'b')"
   ]
  },
  {
   "cell_type": "code",
   "execution_count": 32,
   "id": "7bbb5862",
   "metadata": {},
   "outputs": [
    {
     "data": {
      "text/plain": [
       "'I Am Goood G'"
      ]
     },
     "execution_count": 32,
     "metadata": {},
     "output_type": "execute_result"
    }
   ],
   "source": [
    "a.title()"
   ]
  },
  {
   "cell_type": "code",
   "execution_count": 33,
   "id": "e22f0b11",
   "metadata": {},
   "outputs": [
    {
     "data": {
      "text/plain": [
       "'I am goood g'"
      ]
     },
     "execution_count": 33,
     "metadata": {},
     "output_type": "execute_result"
    }
   ],
   "source": [
    "a.capitalize()"
   ]
  },
  {
   "cell_type": "code",
   "execution_count": 34,
   "id": "e7e91801",
   "metadata": {},
   "outputs": [
    {
     "data": {
      "text/plain": [
       "9"
      ]
     },
     "execution_count": 34,
     "metadata": {},
     "output_type": "execute_result"
    }
   ],
   "source": [
    "a.find('d')"
   ]
  },
  {
   "cell_type": "code",
   "execution_count": 35,
   "id": "74b94514",
   "metadata": {},
   "outputs": [
    {
     "data": {
      "text/plain": [
       "3"
      ]
     },
     "execution_count": 35,
     "metadata": {},
     "output_type": "execute_result"
    }
   ],
   "source": [
    "a.count('o')"
   ]
  },
  {
   "cell_type": "code",
   "execution_count": 36,
   "id": "0f75d534",
   "metadata": {},
   "outputs": [
    {
     "name": "stdout",
     "output_type": "stream",
     "text": [
      "i am \n",
      " bad\n"
     ]
    }
   ],
   "source": [
    "print('i am \\n bad')"
   ]
  },
  {
   "cell_type": "markdown",
   "id": "a8bf4e02",
   "metadata": {},
   "source": [
    "# Type Casting\n",
    "\n",
    "- type conversion\n"
   ]
  },
  {
   "cell_type": "code",
   "execution_count": 37,
   "id": "0a099ede",
   "metadata": {},
   "outputs": [],
   "source": [
    "a=30.2"
   ]
  },
  {
   "cell_type": "code",
   "execution_count": 38,
   "id": "bc988785",
   "metadata": {},
   "outputs": [],
   "source": [
    "a=int(30.7)  # it won't round the value"
   ]
  },
  {
   "cell_type": "code",
   "execution_count": 39,
   "id": "5b3c1257",
   "metadata": {},
   "outputs": [
    {
     "data": {
      "text/plain": [
       "30"
      ]
     },
     "execution_count": 39,
     "metadata": {},
     "output_type": "execute_result"
    }
   ],
   "source": [
    "a"
   ]
  },
  {
   "cell_type": "code",
   "execution_count": 40,
   "id": "ae407fb6",
   "metadata": {},
   "outputs": [
    {
     "data": {
      "text/plain": [
       "float"
      ]
     },
     "execution_count": 40,
     "metadata": {},
     "output_type": "execute_result"
    }
   ],
   "source": [
    "b=float(13)\n",
    "type(b)"
   ]
  },
  {
   "cell_type": "code",
   "execution_count": 41,
   "id": "51245d44",
   "metadata": {},
   "outputs": [
    {
     "data": {
      "text/plain": [
       "str"
      ]
     },
     "execution_count": 41,
     "metadata": {},
     "output_type": "execute_result"
    }
   ],
   "source": [
    "a=str('1')\n",
    "type(a)"
   ]
  },
  {
   "cell_type": "code",
   "execution_count": 42,
   "id": "b28eacaa",
   "metadata": {},
   "outputs": [
    {
     "data": {
      "text/plain": [
       "'1'"
      ]
     },
     "execution_count": 42,
     "metadata": {},
     "output_type": "execute_result"
    }
   ],
   "source": [
    "a"
   ]
  },
  {
   "cell_type": "code",
   "execution_count": 43,
   "id": "ceedf345",
   "metadata": {},
   "outputs": [
    {
     "data": {
      "text/plain": [
       "1"
      ]
     },
     "execution_count": 43,
     "metadata": {},
     "output_type": "execute_result"
    }
   ],
   "source": [
    "c=int(a)\n",
    "c"
   ]
  },
  {
   "cell_type": "markdown",
   "id": "b359b05b",
   "metadata": {},
   "source": [
    "# BOOl"
   ]
  },
  {
   "cell_type": "code",
   "execution_count": 44,
   "id": "65593685",
   "metadata": {},
   "outputs": [],
   "source": [
    "a= 'i am good'"
   ]
  },
  {
   "cell_type": "code",
   "execution_count": 45,
   "id": "84f286c8",
   "metadata": {},
   "outputs": [
    {
     "data": {
      "text/plain": [
       "False"
      ]
     },
     "execution_count": 45,
     "metadata": {},
     "output_type": "execute_result"
    }
   ],
   "source": [
    "'f' in a"
   ]
  },
  {
   "cell_type": "markdown",
   "id": "7f306aaf",
   "metadata": {},
   "source": [
    "- list [ ]\n",
    "- tuple( )\n",
    "- set  { }\n",
    "- dict { }\n",
    "\n",
    "There are four collection data types in the Python programming language:\n",
    "- List is a collection which is ordered and changeable. Allows duplicate members.\n",
    "- Tuple is a collection which is ordered and unchangeable. Allows duplicate members.\n",
    "- Set is a collection which is unordered, unchangeable*, and unindexed. No duplicate members.\n",
    "- Dictionary is a collection which is ordered** and changeable. No duplicate members."
   ]
  },
  {
   "cell_type": "code",
   "execution_count": 46,
   "id": "1490a9d7",
   "metadata": {},
   "outputs": [
    {
     "data": {
      "text/plain": [
       "dict"
      ]
     },
     "execution_count": 46,
     "metadata": {},
     "output_type": "execute_result"
    }
   ],
   "source": [
    "type({})"
   ]
  },
  {
   "cell_type": "markdown",
   "id": "791997b8",
   "metadata": {},
   "source": [
    "# List [  ]"
   ]
  },
  {
   "cell_type": "code",
   "execution_count": 47,
   "id": "54dafe57",
   "metadata": {},
   "outputs": [],
   "source": [
    "a=[1,2.0,'sabari',4,4,5]  # all data types, duplicates are allowed ,ordered"
   ]
  },
  {
   "cell_type": "code",
   "execution_count": 48,
   "id": "45222f43",
   "metadata": {},
   "outputs": [
    {
     "data": {
      "text/plain": [
       "[1, 2.0, 'sabari', 4, 4, 5]"
      ]
     },
     "execution_count": 48,
     "metadata": {},
     "output_type": "execute_result"
    }
   ],
   "source": [
    "a"
   ]
  },
  {
   "cell_type": "code",
   "execution_count": 49,
   "id": "d3eaf3bf",
   "metadata": {},
   "outputs": [
    {
     "data": {
      "text/plain": [
       "list"
      ]
     },
     "execution_count": 49,
     "metadata": {},
     "output_type": "execute_result"
    }
   ],
   "source": [
    "type(a)"
   ]
  },
  {
   "cell_type": "code",
   "execution_count": 50,
   "id": "d2ed1fce",
   "metadata": {},
   "outputs": [
    {
     "data": {
      "text/plain": [
       "1"
      ]
     },
     "execution_count": 50,
     "metadata": {},
     "output_type": "execute_result"
    }
   ],
   "source": [
    "# indexing and slicing is applicable\n",
    "\n",
    "a[0]"
   ]
  },
  {
   "cell_type": "code",
   "execution_count": 51,
   "id": "92898ba1",
   "metadata": {},
   "outputs": [
    {
     "data": {
      "text/plain": [
       "[1, 2.0, 'sabari', 4]"
      ]
     },
     "execution_count": 51,
     "metadata": {},
     "output_type": "execute_result"
    }
   ],
   "source": [
    "a[0:4]"
   ]
  },
  {
   "cell_type": "code",
   "execution_count": 52,
   "id": "346493ad",
   "metadata": {},
   "outputs": [
    {
     "data": {
      "text/plain": [
       "[1, 2.0, 'sabari', 4, 4, 5]"
      ]
     },
     "execution_count": 52,
     "metadata": {},
     "output_type": "execute_result"
    }
   ],
   "source": [
    "# lsit are mutable\n",
    "\n",
    "a"
   ]
  },
  {
   "cell_type": "code",
   "execution_count": 53,
   "id": "951dd1c1",
   "metadata": {},
   "outputs": [],
   "source": [
    "a[0]='python'"
   ]
  },
  {
   "cell_type": "code",
   "execution_count": 54,
   "id": "f1a7f38a",
   "metadata": {},
   "outputs": [
    {
     "data": {
      "text/plain": [
       "['python', 2.0, 'sabari', 4, 4, 5]"
      ]
     },
     "execution_count": 54,
     "metadata": {},
     "output_type": "execute_result"
    }
   ],
   "source": [
    "a"
   ]
  },
  {
   "cell_type": "code",
   "execution_count": 55,
   "id": "ee92ce23",
   "metadata": {},
   "outputs": [],
   "source": [
    "a.append(3)    #Append object to the end of the list."
   ]
  },
  {
   "cell_type": "code",
   "execution_count": 56,
   "id": "c6e5398f",
   "metadata": {},
   "outputs": [
    {
     "data": {
      "text/plain": [
       "['python', 2.0, 'sabari', 4, 4, 5, 3]"
      ]
     },
     "execution_count": 56,
     "metadata": {},
     "output_type": "execute_result"
    }
   ],
   "source": [
    "a"
   ]
  },
  {
   "cell_type": "code",
   "execution_count": 57,
   "id": "4b10d8e0",
   "metadata": {},
   "outputs": [],
   "source": [
    "a.clear()    #Remove all items from list."
   ]
  },
  {
   "cell_type": "code",
   "execution_count": 58,
   "id": "c997b93d",
   "metadata": {},
   "outputs": [],
   "source": [
    "a=[1,2.0,'sabari',4,4,5] "
   ]
  },
  {
   "cell_type": "code",
   "execution_count": 59,
   "id": "574124b4",
   "metadata": {},
   "outputs": [],
   "source": [
    "b=a.copy()   #Return a shallow copy of the list."
   ]
  },
  {
   "cell_type": "code",
   "execution_count": 60,
   "id": "32d1be5b",
   "metadata": {},
   "outputs": [
    {
     "data": {
      "text/plain": [
       "[1, 2.0, 'sabari', 4, 4, 5]"
      ]
     },
     "execution_count": 60,
     "metadata": {},
     "output_type": "execute_result"
    }
   ],
   "source": [
    "b"
   ]
  },
  {
   "cell_type": "markdown",
   "id": "d8beadfd",
   "metadata": {},
   "source": [
    "# why you have to use copy() ?"
   ]
  },
  {
   "cell_type": "code",
   "execution_count": 61,
   "id": "6a663e95",
   "metadata": {},
   "outputs": [],
   "source": [
    "a=[1,2,3,4,5]"
   ]
  },
  {
   "cell_type": "code",
   "execution_count": 62,
   "id": "3aa26e6a",
   "metadata": {},
   "outputs": [],
   "source": [
    "b=a.copy()"
   ]
  },
  {
   "cell_type": "code",
   "execution_count": 63,
   "id": "e3af4d0e",
   "metadata": {},
   "outputs": [
    {
     "data": {
      "text/plain": [
       "[1, 2, 3, 4, 5]"
      ]
     },
     "execution_count": 63,
     "metadata": {},
     "output_type": "execute_result"
    }
   ],
   "source": [
    "b"
   ]
  },
  {
   "cell_type": "code",
   "execution_count": 64,
   "id": "1e98bc88",
   "metadata": {},
   "outputs": [
    {
     "data": {
      "text/plain": [
       "['sabari', 2, 3, 4, 5]"
      ]
     },
     "execution_count": 64,
     "metadata": {},
     "output_type": "execute_result"
    }
   ],
   "source": [
    "b[0]='sabari'\n",
    "b"
   ]
  },
  {
   "cell_type": "code",
   "execution_count": 65,
   "id": "61f81ae0",
   "metadata": {},
   "outputs": [
    {
     "data": {
      "text/plain": [
       "[1, 2, 3, 4, 5]"
      ]
     },
     "execution_count": 65,
     "metadata": {},
     "output_type": "execute_result"
    }
   ],
   "source": [
    "a"
   ]
  },
  {
   "cell_type": "markdown",
   "id": "caa8a519",
   "metadata": {},
   "source": [
    "# Tuples ( )"
   ]
  },
  {
   "cell_type": "code",
   "execution_count": 66,
   "id": "a9c3cdbb",
   "metadata": {},
   "outputs": [],
   "source": [
    "a=(1,2,3,7,5,5.0,6,'name')"
   ]
  },
  {
   "cell_type": "code",
   "execution_count": 67,
   "id": "189ab485",
   "metadata": {},
   "outputs": [
    {
     "data": {
      "text/plain": [
       "tuple"
      ]
     },
     "execution_count": 67,
     "metadata": {},
     "output_type": "execute_result"
    }
   ],
   "source": [
    "type(a)"
   ]
  },
  {
   "cell_type": "code",
   "execution_count": 68,
   "id": "b3d4ec4a",
   "metadata": {},
   "outputs": [
    {
     "data": {
      "text/plain": [
       "(1, 2, 3, 7, 5, 5.0, 6, 'name')"
      ]
     },
     "execution_count": 68,
     "metadata": {},
     "output_type": "execute_result"
    }
   ],
   "source": [
    "a                # ordered , immutal,duplicates and all data types are allowed"
   ]
  },
  {
   "cell_type": "code",
   "execution_count": 69,
   "id": "8c5099f3",
   "metadata": {},
   "outputs": [
    {
     "data": {
      "text/plain": [
       "2"
      ]
     },
     "execution_count": 69,
     "metadata": {},
     "output_type": "execute_result"
    }
   ],
   "source": [
    "a.count(5)"
   ]
  },
  {
   "cell_type": "code",
   "execution_count": 70,
   "id": "d2664c9f",
   "metadata": {},
   "outputs": [
    {
     "data": {
      "text/plain": [
       "3"
      ]
     },
     "execution_count": 70,
     "metadata": {},
     "output_type": "execute_result"
    }
   ],
   "source": [
    "a.index(7)"
   ]
  },
  {
   "cell_type": "markdown",
   "id": "28c8d974",
   "metadata": {},
   "source": [
    "# Set { }"
   ]
  },
  {
   "cell_type": "code",
   "execution_count": 71,
   "id": "30a52cab",
   "metadata": {},
   "outputs": [],
   "source": [
    "d={1,2,3,4,5}"
   ]
  },
  {
   "cell_type": "code",
   "execution_count": 72,
   "id": "61192717",
   "metadata": {},
   "outputs": [
    {
     "data": {
      "text/plain": [
       "set"
      ]
     },
     "execution_count": 72,
     "metadata": {},
     "output_type": "execute_result"
    }
   ],
   "source": [
    "type(d)"
   ]
  },
  {
   "cell_type": "code",
   "execution_count": 73,
   "id": "d8d12e1c",
   "metadata": {},
   "outputs": [
    {
     "data": {
      "text/plain": [
       "{1, 2, 3, 4, 5}"
      ]
     },
     "execution_count": 73,
     "metadata": {},
     "output_type": "execute_result"
    }
   ],
   "source": [
    "d"
   ]
  },
  {
   "cell_type": "code",
   "execution_count": 74,
   "id": "a8cd550b",
   "metadata": {},
   "outputs": [],
   "source": [
    "f={'apple', 'orange', 'apple', 'pear', 'orange', 'banana'}"
   ]
  },
  {
   "cell_type": "code",
   "execution_count": 75,
   "id": "3ba2bf6d",
   "metadata": {},
   "outputs": [
    {
     "name": "stdout",
     "output_type": "stream",
     "text": [
      "{'orange', 'banana', 'pear', 'apple'}\n"
     ]
    }
   ],
   "source": [
    "print(f)"
   ]
  },
  {
   "cell_type": "code",
   "execution_count": 76,
   "id": "9097e440",
   "metadata": {},
   "outputs": [
    {
     "data": {
      "text/plain": [
       "'orange'"
      ]
     },
     "execution_count": 76,
     "metadata": {},
     "output_type": "execute_result"
    }
   ],
   "source": [
    "f.pop()"
   ]
  },
  {
   "cell_type": "code",
   "execution_count": 77,
   "id": "09b399f7",
   "metadata": {},
   "outputs": [
    {
     "data": {
      "text/plain": [
       "{'apple', 'banana', 'pear'}"
      ]
     },
     "execution_count": 77,
     "metadata": {},
     "output_type": "execute_result"
    }
   ],
   "source": [
    "f"
   ]
  },
  {
   "cell_type": "code",
   "execution_count": 78,
   "id": "41401333",
   "metadata": {},
   "outputs": [
    {
     "data": {
      "text/plain": [
       "'banana'"
      ]
     },
     "execution_count": 78,
     "metadata": {},
     "output_type": "execute_result"
    }
   ],
   "source": [
    "f.pop()"
   ]
  },
  {
   "cell_type": "code",
   "execution_count": 79,
   "id": "81ac962c",
   "metadata": {},
   "outputs": [
    {
     "data": {
      "text/plain": [
       "{'apple', 'pear'}"
      ]
     },
     "execution_count": 79,
     "metadata": {},
     "output_type": "execute_result"
    }
   ],
   "source": [
    "f"
   ]
  },
  {
   "cell_type": "code",
   "execution_count": 81,
   "id": "8c8e42b7",
   "metadata": {},
   "outputs": [
    {
     "data": {
      "text/plain": [
       "{'apple', 'pear'}"
      ]
     },
     "execution_count": 81,
     "metadata": {},
     "output_type": "execute_result"
    }
   ],
   "source": [
    "f"
   ]
  },
  {
   "cell_type": "markdown",
   "id": "60c1be35",
   "metadata": {},
   "source": [
    " # Dict { }"
   ]
  },
  {
   "cell_type": "code",
   "execution_count": 82,
   "id": "afd99cc0",
   "metadata": {},
   "outputs": [],
   "source": [
    "g={'keys': 1}"
   ]
  },
  {
   "cell_type": "code",
   "execution_count": 83,
   "id": "72e0b87b",
   "metadata": {},
   "outputs": [
    {
     "data": {
      "text/plain": [
       "dict"
      ]
     },
     "execution_count": 83,
     "metadata": {},
     "output_type": "execute_result"
    }
   ],
   "source": [
    "type(g)"
   ]
  },
  {
   "cell_type": "code",
   "execution_count": 84,
   "id": "5fe8300f",
   "metadata": {},
   "outputs": [],
   "source": [
    "h={'jack': 4098, 'sape': 4139}"
   ]
  },
  {
   "cell_type": "code",
   "execution_count": 85,
   "id": "ede1320d",
   "metadata": {},
   "outputs": [
    {
     "data": {
      "text/plain": [
       "dict"
      ]
     },
     "execution_count": 85,
     "metadata": {},
     "output_type": "execute_result"
    }
   ],
   "source": [
    "type(h)"
   ]
  },
  {
   "cell_type": "code",
   "execution_count": 86,
   "id": "198a4481",
   "metadata": {},
   "outputs": [
    {
     "data": {
      "text/plain": [
       "dict_keys(['jack', 'sape'])"
      ]
     },
     "execution_count": 86,
     "metadata": {},
     "output_type": "execute_result"
    }
   ],
   "source": [
    "h.keys()"
   ]
  },
  {
   "cell_type": "code",
   "execution_count": 87,
   "id": "1f5445f0",
   "metadata": {},
   "outputs": [
    {
     "data": {
      "text/plain": [
       "dict_values([4098, 4139])"
      ]
     },
     "execution_count": 87,
     "metadata": {},
     "output_type": "execute_result"
    }
   ],
   "source": [
    "h.values()"
   ]
  },
  {
   "cell_type": "code",
   "execution_count": 88,
   "id": "e7a735cc",
   "metadata": {},
   "outputs": [
    {
     "data": {
      "text/plain": [
       "4139"
      ]
     },
     "execution_count": 88,
     "metadata": {},
     "output_type": "execute_result"
    }
   ],
   "source": [
    "h.get('sape')"
   ]
  },
  {
   "cell_type": "code",
   "execution_count": 89,
   "id": "18589826",
   "metadata": {},
   "outputs": [
    {
     "data": {
      "text/plain": [
       "4139"
      ]
     },
     "execution_count": 89,
     "metadata": {},
     "output_type": "execute_result"
    }
   ],
   "source": [
    "h['sape']"
   ]
  },
  {
   "cell_type": "code",
   "execution_count": 90,
   "id": "f58d8079",
   "metadata": {},
   "outputs": [],
   "source": [
    "data= {\n",
    "     \"student_1\":{\n",
    "         'name': 'saba',\n",
    "         \"mark\": 35\n",
    "                  },\n",
    "       \"student_2\":{\n",
    "         'name': 'moni',\n",
    "         \"mark\": 35\n",
    "                }\n",
    "    \n",
    "       }"
   ]
  },
  {
   "cell_type": "code",
   "execution_count": 91,
   "id": "49da3442",
   "metadata": {},
   "outputs": [
    {
     "data": {
      "text/plain": [
       "{'student_1': {'name': 'saba', 'mark': 35},\n",
       " 'student_2': {'name': 'moni', 'mark': 35}}"
      ]
     },
     "execution_count": 91,
     "metadata": {},
     "output_type": "execute_result"
    }
   ],
   "source": [
    "data"
   ]
  },
  {
   "cell_type": "code",
   "execution_count": 92,
   "id": "c70ac6f9",
   "metadata": {},
   "outputs": [
    {
     "data": {
      "text/plain": [
       "{'name': 'saba', 'mark': 35}"
      ]
     },
     "execution_count": 92,
     "metadata": {},
     "output_type": "execute_result"
    }
   ],
   "source": [
    "data['student_1']"
   ]
  },
  {
   "cell_type": "code",
   "execution_count": 93,
   "id": "6d919cbb",
   "metadata": {},
   "outputs": [
    {
     "data": {
      "text/plain": [
       "35"
      ]
     },
     "execution_count": 93,
     "metadata": {},
     "output_type": "execute_result"
    }
   ],
   "source": [
    "data['student_1']['mark']"
   ]
  },
  {
   "cell_type": "markdown",
   "id": "9969153a",
   "metadata": {},
   "source": [
    "#  if Statements"
   ]
  },
  {
   "cell_type": "code",
   "execution_count": 94,
   "id": "b85cf4df",
   "metadata": {},
   "outputs": [],
   "source": [
    "a=12"
   ]
  },
  {
   "cell_type": "markdown",
   "id": "3f768b85",
   "metadata": {},
   "source": [
    "elif \n",
    "\n",
    "else :above condition fail\n",
    "\n",
    "if:condition is true run "
   ]
  },
  {
   "cell_type": "code",
   "execution_count": 95,
   "id": "8247d197",
   "metadata": {},
   "outputs": [
    {
     "name": "stdout",
     "output_type": "stream",
     "text": [
      "12\n",
      "values are  22\n"
     ]
    }
   ],
   "source": [
    "if a==10 or 12:\n",
    "    print(a)\n",
    "    c=a+10\n",
    "    print('values are ',c)\n",
    "    \n",
    "elif a==20:\n",
    "    print('value is 20')\n",
    "\n",
    "elif a==20:\n",
    "    print('The value is 10+10')\n",
    "\n",
    "else:\n",
    "    print('The value is greater 10 and the value is :',a)"
   ]
  },
  {
   "cell_type": "markdown",
   "id": "62924858",
   "metadata": {},
   "source": [
    "# loop\n",
    "\n",
    "- for loop\n",
    "\n",
    "- while loop"
   ]
  },
  {
   "cell_type": "code",
   "execution_count": 96,
   "id": "d09d960c",
   "metadata": {},
   "outputs": [],
   "source": [
    "a=['saba','mani','rahul','mahesh','dhanapal','raam','abdul']"
   ]
  },
  {
   "cell_type": "code",
   "execution_count": 97,
   "id": "fc5adc66",
   "metadata": {},
   "outputs": [
    {
     "data": {
      "text/plain": [
       "list"
      ]
     },
     "execution_count": 97,
     "metadata": {},
     "output_type": "execute_result"
    }
   ],
   "source": [
    "type(a)"
   ]
  },
  {
   "cell_type": "code",
   "execution_count": 98,
   "id": "f65df0e6",
   "metadata": {},
   "outputs": [
    {
     "name": "stdout",
     "output_type": "stream",
     "text": [
      "saba\n",
      "mani\n",
      "rahul\n",
      "mahesh\n",
      "dhanapal\n",
      "raam\n",
      "abdul\n"
     ]
    }
   ],
   "source": [
    "for i in a:\n",
    "    print(i)"
   ]
  },
  {
   "cell_type": "code",
   "execution_count": 99,
   "id": "416e65cf",
   "metadata": {},
   "outputs": [],
   "source": [
    "b=[2]"
   ]
  },
  {
   "cell_type": "code",
   "execution_count": 100,
   "id": "41e074ce",
   "metadata": {},
   "outputs": [
    {
     "name": "stdout",
     "output_type": "stream",
     "text": [
      "saba\n",
      "bye\n",
      "mani\n",
      "bye\n",
      "rahul\n",
      "bye\n",
      "mahesh\n",
      "bye\n",
      "dhanapal\n",
      "hi \n",
      "raam\n",
      "hi \n",
      "abdul\n",
      "bye\n",
      " The list is empty\n"
     ]
    }
   ],
   "source": [
    "for i in a:\n",
    "    print(i)\n",
    "    if i == 'dhanapal' or i == 'raam' :\n",
    "        print('hi ')\n",
    "        \n",
    "    else:\n",
    "        print('bye') \n",
    "else:\n",
    "    print(' The list is empty')"
   ]
  },
  {
   "cell_type": "code",
   "execution_count": 101,
   "id": "033caa0c",
   "metadata": {},
   "outputs": [
    {
     "name": "stdout",
     "output_type": "stream",
     "text": [
      "1\n",
      "2\n",
      "3\n",
      "4\n",
      "5\n",
      "6\n",
      "7\n",
      "8\n",
      "9\n"
     ]
    }
   ],
   "source": [
    "i = 1\n",
    "while i < 10:\n",
    "    print(i)\n",
    "    i=i+1"
   ]
  },
  {
   "cell_type": "markdown",
   "id": "771795c5",
   "metadata": {},
   "source": [
    " # task\n",
    " \n",
    " 1) How to edit tuple"
   ]
  },
  {
   "cell_type": "code",
   "execution_count": 102,
   "id": "e3dcd823",
   "metadata": {},
   "outputs": [],
   "source": [
    "c=(1,2,3,4,'saba')"
   ]
  },
  {
   "cell_type": "code",
   "execution_count": 103,
   "id": "8bddfa3e",
   "metadata": {},
   "outputs": [
    {
     "data": {
      "text/plain": [
       "tuple"
      ]
     },
     "execution_count": 103,
     "metadata": {},
     "output_type": "execute_result"
    }
   ],
   "source": [
    "type(c)"
   ]
  },
  {
   "cell_type": "code",
   "execution_count": 104,
   "id": "148f0b3d",
   "metadata": {},
   "outputs": [],
   "source": [
    "# type casting\n",
    "d=list(c)"
   ]
  },
  {
   "cell_type": "code",
   "execution_count": 105,
   "id": "bf9b25df",
   "metadata": {},
   "outputs": [
    {
     "data": {
      "text/plain": [
       "list"
      ]
     },
     "execution_count": 105,
     "metadata": {},
     "output_type": "execute_result"
    }
   ],
   "source": [
    "type(d)"
   ]
  },
  {
   "cell_type": "code",
   "execution_count": 106,
   "id": "ae825366",
   "metadata": {},
   "outputs": [],
   "source": [
    "d.append('hari')"
   ]
  },
  {
   "cell_type": "code",
   "execution_count": 107,
   "id": "2d0ebeb7",
   "metadata": {},
   "outputs": [
    {
     "data": {
      "text/plain": [
       "[1, 2, 3, 4, 'saba', 'hari']"
      ]
     },
     "execution_count": 107,
     "metadata": {},
     "output_type": "execute_result"
    }
   ],
   "source": [
    "d"
   ]
  },
  {
   "cell_type": "code",
   "execution_count": 108,
   "id": "73542689",
   "metadata": {},
   "outputs": [],
   "source": [
    "c=tuple(d)"
   ]
  },
  {
   "cell_type": "code",
   "execution_count": 109,
   "id": "492553ea",
   "metadata": {},
   "outputs": [
    {
     "data": {
      "text/plain": [
       "(1, 2, 3, 4, 'saba', 'hari')"
      ]
     },
     "execution_count": 109,
     "metadata": {},
     "output_type": "execute_result"
    }
   ],
   "source": [
    "c"
   ]
  },
  {
   "cell_type": "markdown",
   "id": "7fc5dc01",
   "metadata": {},
   "source": [
    "2)  How to remove duplicats from list or tuple"
   ]
  },
  {
   "cell_type": "code",
   "execution_count": 110,
   "id": "187d845a",
   "metadata": {},
   "outputs": [],
   "source": [
    "l=[2,3,4,5.9,\"heart\",'heart',5.9,4,3]"
   ]
  },
  {
   "cell_type": "code",
   "execution_count": 111,
   "id": "9059cc94",
   "metadata": {},
   "outputs": [],
   "source": [
    "l=set(l)"
   ]
  },
  {
   "cell_type": "code",
   "execution_count": 112,
   "id": "e8193f47",
   "metadata": {},
   "outputs": [
    {
     "data": {
      "text/plain": [
       "set"
      ]
     },
     "execution_count": 112,
     "metadata": {},
     "output_type": "execute_result"
    }
   ],
   "source": [
    "type(l)"
   ]
  },
  {
   "cell_type": "code",
   "execution_count": 113,
   "id": "fbc6a3e5",
   "metadata": {},
   "outputs": [
    {
     "data": {
      "text/plain": [
       "{2, 3, 4, 5.9, 'heart'}"
      ]
     },
     "execution_count": 113,
     "metadata": {},
     "output_type": "execute_result"
    }
   ],
   "source": [
    "l"
   ]
  },
  {
   "cell_type": "code",
   "execution_count": 114,
   "id": "4b73ab9f",
   "metadata": {},
   "outputs": [
    {
     "data": {
      "text/plain": [
       "[2, 3, 4, 5.9, 'heart']"
      ]
     },
     "execution_count": 114,
     "metadata": {},
     "output_type": "execute_result"
    }
   ],
   "source": [
    "l=list(l)\n",
    "l"
   ]
  },
  {
   "cell_type": "markdown",
   "id": "d1175dd2",
   "metadata": {},
   "source": [
    "# Stack\n",
    "\n",
    "\n",
    "-  last in (append) and 1st out (pop)  using list"
   ]
  },
  {
   "cell_type": "code",
   "execution_count": 115,
   "id": "5ee2ac07",
   "metadata": {},
   "outputs": [],
   "source": [
    "stack = [1,2,3,4,5,6,7]"
   ]
  },
  {
   "cell_type": "code",
   "execution_count": 116,
   "id": "96037d85",
   "metadata": {},
   "outputs": [],
   "source": [
    "stack.append(9)   #last in"
   ]
  },
  {
   "cell_type": "code",
   "execution_count": 117,
   "id": "a61a6d19",
   "metadata": {},
   "outputs": [
    {
     "data": {
      "text/plain": [
       "[1, 2, 3, 4, 5, 6, 7, 9]"
      ]
     },
     "execution_count": 117,
     "metadata": {},
     "output_type": "execute_result"
    }
   ],
   "source": [
    "stack"
   ]
  },
  {
   "cell_type": "code",
   "execution_count": 118,
   "id": "e54e2519",
   "metadata": {},
   "outputs": [
    {
     "data": {
      "text/plain": [
       "9"
      ]
     },
     "execution_count": 118,
     "metadata": {},
     "output_type": "execute_result"
    }
   ],
   "source": [
    "stack.pop()"
   ]
  },
  {
   "cell_type": "code",
   "execution_count": 119,
   "id": "a3147a23",
   "metadata": {},
   "outputs": [
    {
     "data": {
      "text/plain": [
       "[1, 2, 3, 4, 5, 6, 7]"
      ]
     },
     "execution_count": 119,
     "metadata": {},
     "output_type": "execute_result"
    }
   ],
   "source": [
    "stack"
   ]
  },
  {
   "cell_type": "markdown",
   "id": "bb5a3a11",
   "metadata": {},
   "source": [
    "# List comprehension"
   ]
  },
  {
   "cell_type": "code",
   "execution_count": 120,
   "id": "e6d187df",
   "metadata": {},
   "outputs": [
    {
     "ename": "IndentationError",
     "evalue": "expected an indented block after 'for' statement on line 2 (4058254306.py, line 3)",
     "output_type": "error",
     "traceback": [
      "\u001b[1;36m  Cell \u001b[1;32mIn [120], line 3\u001b[1;36m\u001b[0m\n\u001b[1;33m    squares.append(x**2)\u001b[0m\n\u001b[1;37m    ^\u001b[0m\n\u001b[1;31mIndentationError\u001b[0m\u001b[1;31m:\u001b[0m expected an indented block after 'for' statement on line 2\n"
     ]
    }
   ],
   "source": [
    "squares = []\n",
    "for x in range(10):\n",
    "squares.append(x**2)\n"
   ]
  },
  {
   "cell_type": "code",
   "execution_count": 121,
   "id": "5e403e97",
   "metadata": {},
   "outputs": [],
   "source": [
    "a=range(1,100)"
   ]
  },
  {
   "cell_type": "code",
   "execution_count": 122,
   "id": "0769f602",
   "metadata": {},
   "outputs": [],
   "source": [
    "a=[1,2,3,4,5,6,7,]"
   ]
  },
  {
   "cell_type": "code",
   "execution_count": 123,
   "id": "74c93a33",
   "metadata": {},
   "outputs": [
    {
     "name": "stdout",
     "output_type": "stream",
     "text": [
      "11\n",
      "12\n",
      "13\n",
      "14\n",
      "15\n",
      "16\n",
      "17\n"
     ]
    }
   ],
   "source": [
    "d=[]\n",
    "for i in a:\n",
    "    c=i+10\n",
    "    d.append(c)\n",
    "    print(c)"
   ]
  },
  {
   "cell_type": "code",
   "execution_count": 124,
   "id": "dcdd163d",
   "metadata": {},
   "outputs": [
    {
     "data": {
      "text/plain": [
       "[11, 12, 13, 14, 15, 16, 17]"
      ]
     },
     "execution_count": 124,
     "metadata": {},
     "output_type": "execute_result"
    }
   ],
   "source": [
    "d"
   ]
  },
  {
   "cell_type": "code",
   "execution_count": 125,
   "id": "6d025b9f",
   "metadata": {},
   "outputs": [],
   "source": [
    "s = [i+10 for i in a]"
   ]
  },
  {
   "cell_type": "code",
   "execution_count": 126,
   "id": "d5b18352",
   "metadata": {},
   "outputs": [
    {
     "data": {
      "text/plain": [
       "[11, 12, 13, 14, 15, 16, 17]"
      ]
     },
     "execution_count": 126,
     "metadata": {},
     "output_type": "execute_result"
    }
   ],
   "source": [
    "s"
   ]
  },
  {
   "cell_type": "markdown",
   "id": "10a63bdb",
   "metadata": {},
   "source": [
    " # Function\n",
    " \n",
    " -  A function is a block of code which only runs when it is called.\n",
    " - resuable\n",
    " \n",
    " \n",
    " # Type of function\n",
    "\n",
    "- Python Built-in Functions.\n",
    "    - example : print , if, for ...etc \n",
    "- Python User-defined Functions.\n",
    "- Python Lambda Functions.\n",
    "- Python Recursion Functions.\n"
   ]
  },
  {
   "cell_type": "code",
   "execution_count": 127,
   "id": "848962ad",
   "metadata": {},
   "outputs": [],
   "source": [
    "a=[1,2,3,4,5,6,7]"
   ]
  },
  {
   "cell_type": "code",
   "execution_count": 128,
   "id": "402d2d7d",
   "metadata": {},
   "outputs": [
    {
     "name": "stdout",
     "output_type": "stream",
     "text": [
      "11\n",
      "12\n",
      "13\n",
      "14\n",
      "15\n",
      "16\n",
      "17\n"
     ]
    }
   ],
   "source": [
    "for i in a:\n",
    "    c=i+10\n",
    "    print(c)"
   ]
  },
  {
   "cell_type": "code",
   "execution_count": 129,
   "id": "aadf22f2",
   "metadata": {},
   "outputs": [],
   "source": [
    "z=[1,2,3,4,5,6,7]\n",
    "b=[3,4,5,6,7,8,9]\n",
    "c=[4,45,6,7,8,9]"
   ]
  },
  {
   "cell_type": "code",
   "execution_count": 130,
   "id": "e97caa4d",
   "metadata": {},
   "outputs": [
    {
     "data": {
      "text/plain": [
       "[1, 2, 3, 4, 5, 6, 7]"
      ]
     },
     "execution_count": 130,
     "metadata": {},
     "output_type": "execute_result"
    }
   ],
   "source": [
    "z"
   ]
  },
  {
   "cell_type": "code",
   "execution_count": 131,
   "id": "8867e384",
   "metadata": {},
   "outputs": [],
   "source": [
    "def l_comp(a):  # l_comp --- function name    # (a) ---attribute\n",
    "    d=[]\n",
    "    for i in a:\n",
    "        c=i+10\n",
    "        d.append(c)\n",
    "    return d"
   ]
  },
  {
   "cell_type": "code",
   "execution_count": 132,
   "id": "a61ea425",
   "metadata": {},
   "outputs": [],
   "source": [
    "c=l_comp(c)"
   ]
  },
  {
   "cell_type": "code",
   "execution_count": 133,
   "id": "29fa86a4",
   "metadata": {},
   "outputs": [],
   "source": [
    "b=l_comp(b)"
   ]
  },
  {
   "cell_type": "code",
   "execution_count": 134,
   "id": "2e5973bf",
   "metadata": {},
   "outputs": [],
   "source": [
    "z=l_comp(z)"
   ]
  },
  {
   "cell_type": "code",
   "execution_count": 135,
   "id": "d3d96ebf",
   "metadata": {},
   "outputs": [
    {
     "data": {
      "text/plain": [
       "[11, 12, 13, 14, 15, 16, 17]"
      ]
     },
     "execution_count": 135,
     "metadata": {},
     "output_type": "execute_result"
    }
   ],
   "source": [
    "z"
   ]
  },
  {
   "cell_type": "code",
   "execution_count": 136,
   "id": "a6a8e78d",
   "metadata": {},
   "outputs": [
    {
     "data": {
      "text/plain": [
       "[13, 14, 15, 16, 17, 18, 19]"
      ]
     },
     "execution_count": 136,
     "metadata": {},
     "output_type": "execute_result"
    }
   ],
   "source": [
    "b"
   ]
  },
  {
   "cell_type": "code",
   "execution_count": 137,
   "id": "cd27f9ff",
   "metadata": {},
   "outputs": [
    {
     "data": {
      "text/plain": [
       "[14, 55, 16, 17, 18, 19]"
      ]
     },
     "execution_count": 137,
     "metadata": {},
     "output_type": "execute_result"
    }
   ],
   "source": [
    "c"
   ]
  },
  {
   "cell_type": "code",
   "execution_count": 138,
   "id": "44fda88c",
   "metadata": {},
   "outputs": [],
   "source": [
    "def div (a,b=3):            # arugument poistion and number is important\n",
    "    \"\"\"\n",
    "    This div(a,b) is the function for dividing a and b in float\n",
    "    \n",
    "    example : >>>> div(6,2)\n",
    "                   3.0\n",
    " \n",
    "    \"\"\"\n",
    "    c=a/b\n",
    "    return c,a,b      "
   ]
  },
  {
   "cell_type": "code",
   "execution_count": 139,
   "id": "a65942b9",
   "metadata": {},
   "outputs": [
    {
     "data": {
      "text/plain": [
       "(3.0, 6, 2)"
      ]
     },
     "execution_count": 139,
     "metadata": {},
     "output_type": "execute_result"
    }
   ],
   "source": [
    "div(6,2)"
   ]
  },
  {
   "cell_type": "code",
   "execution_count": 140,
   "id": "c9795ac7",
   "metadata": {},
   "outputs": [
    {
     "data": {
      "text/plain": [
       "(0.3333333333333333, 2, 6)"
      ]
     },
     "execution_count": 140,
     "metadata": {},
     "output_type": "execute_result"
    }
   ],
   "source": [
    "div(2,6)"
   ]
  },
  {
   "cell_type": "code",
   "execution_count": 141,
   "id": "0f4f9030",
   "metadata": {},
   "outputs": [
    {
     "data": {
      "text/plain": [
       "(3.0, 6, 2)"
      ]
     },
     "execution_count": 141,
     "metadata": {},
     "output_type": "execute_result"
    }
   ],
   "source": [
    "div(b=2,a=6)"
   ]
  },
  {
   "cell_type": "code",
   "execution_count": 142,
   "id": "ece93d18",
   "metadata": {},
   "outputs": [
    {
     "data": {
      "text/plain": [
       "(2.0, 6, 3)"
      ]
     },
     "execution_count": 142,
     "metadata": {},
     "output_type": "execute_result"
    }
   ],
   "source": [
    "div(6,3)"
   ]
  },
  {
   "cell_type": "code",
   "execution_count": 143,
   "id": "e06a4402",
   "metadata": {},
   "outputs": [
    {
     "data": {
      "text/plain": [
       "(3.0, 6, 2)"
      ]
     },
     "execution_count": 143,
     "metadata": {},
     "output_type": "execute_result"
    }
   ],
   "source": [
    "div(6,2)"
   ]
  },
  {
   "cell_type": "code",
   "execution_count": 144,
   "id": "e095a7fd",
   "metadata": {},
   "outputs": [],
   "source": [
    "c=div(6)"
   ]
  },
  {
   "cell_type": "code",
   "execution_count": 145,
   "id": "d5636651",
   "metadata": {},
   "outputs": [],
   "source": [
    "def add (a,b):\n",
    "    c=a+b\n",
    "    return c,a,b"
   ]
  },
  {
   "cell_type": "code",
   "execution_count": 146,
   "id": "c9778fdc",
   "metadata": {},
   "outputs": [],
   "source": [
    "a,b,c=add(2,3) # position in return is  important"
   ]
  },
  {
   "cell_type": "code",
   "execution_count": 147,
   "id": "e48d2d2e",
   "metadata": {},
   "outputs": [
    {
     "data": {
      "text/plain": [
       "3"
      ]
     },
     "execution_count": 147,
     "metadata": {},
     "output_type": "execute_result"
    }
   ],
   "source": [
    "c"
   ]
  },
  {
   "cell_type": "code",
   "execution_count": 148,
   "id": "7ff370b8",
   "metadata": {},
   "outputs": [
    {
     "data": {
      "text/plain": [
       "5"
      ]
     },
     "execution_count": 148,
     "metadata": {},
     "output_type": "execute_result"
    }
   ],
   "source": [
    "a"
   ]
  },
  {
   "cell_type": "code",
   "execution_count": 149,
   "id": "5578fa0c",
   "metadata": {},
   "outputs": [
    {
     "data": {
      "text/plain": [
       "2"
      ]
     },
     "execution_count": 149,
     "metadata": {},
     "output_type": "execute_result"
    }
   ],
   "source": [
    "b"
   ]
  },
  {
   "cell_type": "code",
   "execution_count": 150,
   "id": "dbe84ffd",
   "metadata": {},
   "outputs": [],
   "source": [
    "a=10                   # global variable\n",
    "b=30\n",
    "def add (a,b):\n",
    "    h=a+b              # local variable (called inside function only)\n",
    "    return h"
   ]
  },
  {
   "cell_type": "code",
   "execution_count": 151,
   "id": "77e52e3e",
   "metadata": {},
   "outputs": [
    {
     "data": {
      "text/plain": [
       "10"
      ]
     },
     "execution_count": 151,
     "metadata": {},
     "output_type": "execute_result"
    }
   ],
   "source": [
    "a"
   ]
  },
  {
   "cell_type": "code",
   "execution_count": 152,
   "id": "a2a1202f",
   "metadata": {},
   "outputs": [
    {
     "data": {
      "text/plain": [
       "30"
      ]
     },
     "execution_count": 152,
     "metadata": {},
     "output_type": "execute_result"
    }
   ],
   "source": [
    "b"
   ]
  },
  {
   "cell_type": "code",
   "execution_count": 153,
   "id": "cd0f32bb",
   "metadata": {},
   "outputs": [],
   "source": [
    "h=add(2,3)"
   ]
  },
  {
   "cell_type": "code",
   "execution_count": 154,
   "id": "53e881f5",
   "metadata": {},
   "outputs": [
    {
     "data": {
      "text/plain": [
       "5"
      ]
     },
     "execution_count": 154,
     "metadata": {},
     "output_type": "execute_result"
    }
   ],
   "source": [
    "h"
   ]
  },
  {
   "cell_type": "markdown",
   "id": "9c91a208",
   "metadata": {},
   "source": [
    "# Lambda function"
   ]
  },
  {
   "cell_type": "code",
   "execution_count": 155,
   "id": "274bb9c9",
   "metadata": {},
   "outputs": [],
   "source": [
    "# normal one\n",
    "def sum(a):\n",
    "    c=a+10\n",
    "    return c"
   ]
  },
  {
   "cell_type": "code",
   "execution_count": 156,
   "id": "bc96f7bc",
   "metadata": {},
   "outputs": [],
   "source": [
    "c=sum(2)"
   ]
  },
  {
   "cell_type": "code",
   "execution_count": 157,
   "id": "97eb49c2",
   "metadata": {},
   "outputs": [
    {
     "data": {
      "text/plain": [
       "12"
      ]
     },
     "execution_count": 157,
     "metadata": {},
     "output_type": "execute_result"
    }
   ],
   "source": [
    "c"
   ]
  },
  {
   "cell_type": "code",
   "execution_count": 158,
   "id": "10ce5641",
   "metadata": {},
   "outputs": [],
   "source": [
    "# lambda style\n",
    "c=lambda a:a*10"
   ]
  },
  {
   "cell_type": "code",
   "execution_count": 159,
   "id": "ee5f0adb",
   "metadata": {},
   "outputs": [
    {
     "data": {
      "text/plain": [
       "20"
      ]
     },
     "execution_count": 159,
     "metadata": {},
     "output_type": "execute_result"
    }
   ],
   "source": [
    "c(2)"
   ]
  },
  {
   "cell_type": "code",
   "execution_count": 160,
   "id": "38b75a8f",
   "metadata": {},
   "outputs": [
    {
     "data": {
      "text/plain": [
       "30"
      ]
     },
     "execution_count": 160,
     "metadata": {},
     "output_type": "execute_result"
    }
   ],
   "source": [
    "10+c(2)"
   ]
  },
  {
   "cell_type": "code",
   "execution_count": 161,
   "id": "83fc2733",
   "metadata": {},
   "outputs": [],
   "source": [
    "def sum(a):\n",
    "    c=a+10\n",
    "    print(c)\n",
    "    sum(a)\n",
    "    "
   ]
  },
  {
   "cell_type": "code",
   "execution_count": 162,
   "id": "c0928559",
   "metadata": {},
   "outputs": [
    {
     "name": "stdout",
     "output_type": "stream",
     "text": [
      "Fibonacci series:\n",
      "0\n",
      "1\n",
      "1\n",
      "2\n",
      "3\n",
      "5\n",
      "8\n",
      "13\n",
      "21\n",
      "34\n"
     ]
    }
   ],
   "source": [
    "# Program to print the fibonacci series upto n_terms\n",
    "\n",
    "# Recursive function\n",
    "def recursive_fibonacci(n):\n",
    "    if n <= 1:\n",
    "        return n\n",
    "    else:\n",
    "        return(recursive_fibonacci(n-1) + recursive_fibonacci(n-2))\n",
    "\n",
    "n_terms = 10\n",
    "\n",
    "# check if the number of terms is valid\n",
    "if n_terms <= 0:\n",
    "    print(\"Invalid input ! Please input a positive value\")\n",
    "else:\n",
    "    print(\"Fibonacci series:\")\n",
    "for i in range(n_terms):\n",
    "    print(recursive_fibonacci(i))\n"
   ]
  },
  {
   "cell_type": "code",
   "execution_count": 163,
   "id": "ec63c019",
   "metadata": {},
   "outputs": [],
   "source": [
    "def name(a):\n",
    "    pass"
   ]
  },
  {
   "cell_type": "code",
   "execution_count": 164,
   "id": "f164258f",
   "metadata": {},
   "outputs": [
    {
     "data": {
      "text/plain": [
       "0"
      ]
     },
     "execution_count": 164,
     "metadata": {},
     "output_type": "execute_result"
    }
   ],
   "source": [
    "list(range(2,3))\n",
    "\n",
    "\n",
    "2%2"
   ]
  },
  {
   "cell_type": "code",
   "execution_count": 165,
   "id": "8ddee6ba",
   "metadata": {},
   "outputs": [
    {
     "name": "stdout",
     "output_type": "stream",
     "text": [
      "3 is a prime number\n",
      "4 equals 2 * 2\n",
      "5 is a prime number\n",
      "5 is a prime number\n",
      "5 is a prime number\n",
      "6 equals 2 * 3\n",
      "7 is a prime number\n",
      "7 is a prime number\n",
      "7 is a prime number\n",
      "7 is a prime number\n",
      "7 is a prime number\n",
      "8 equals 2 * 4\n",
      "9 is a prime number\n",
      "9 equals 3 * 3\n"
     ]
    }
   ],
   "source": [
    "for n in range(2, 10):\n",
    "    for x in range(2, n):\n",
    "        if n % x == 0:\n",
    "            print(n, 'equals', x, '*', n//x)\n",
    "            break\n",
    "        else:\n",
    "        # loop fell through without finding a factor\n",
    "            print(n, 'is a prime number')"
   ]
  },
  {
   "cell_type": "code",
   "execution_count": 166,
   "id": "bc8ccc5a",
   "metadata": {},
   "outputs": [],
   "source": [
    "a=[2,3,4,1,5,6,1]"
   ]
  },
  {
   "cell_type": "code",
   "execution_count": 167,
   "id": "6b2b3b93",
   "metadata": {},
   "outputs": [],
   "source": [
    "def demo (a):\n",
    "    for i in a:\n",
    "        if i==1:\n",
    "            print('a is one:',i)\n",
    "            break\n",
    "        else:\n",
    "            print('a is not one',i)"
   ]
  },
  {
   "cell_type": "code",
   "execution_count": 168,
   "id": "cfe1c700",
   "metadata": {},
   "outputs": [
    {
     "name": "stdout",
     "output_type": "stream",
     "text": [
      "a is not one 2\n",
      "a is not one 3\n",
      "a is not one 4\n",
      "a is one: 1\n"
     ]
    }
   ],
   "source": [
    "demo(a)"
   ]
  },
  {
   "cell_type": "code",
   "execution_count": 169,
   "id": "d21a2ee0",
   "metadata": {},
   "outputs": [],
   "source": [
    "a=[2,3,4,1,5,6,1]"
   ]
  },
  {
   "cell_type": "code",
   "execution_count": 170,
   "id": "702c0f17",
   "metadata": {},
   "outputs": [],
   "source": [
    "def demo (a):\n",
    "    for i in a:\n",
    "        if i==1:\n",
    "            print('a is one:',i)\n",
    "            continue\n",
    "        print('a is not one',i,i+2)"
   ]
  },
  {
   "cell_type": "code",
   "execution_count": 171,
   "id": "d404c401",
   "metadata": {},
   "outputs": [
    {
     "name": "stdout",
     "output_type": "stream",
     "text": [
      "a is not one 2 4\n",
      "a is not one 3 5\n",
      "a is not one 4 6\n",
      "a is one: 1\n",
      "a is not one 5 7\n",
      "a is not one 6 8\n",
      "a is one: 1\n"
     ]
    }
   ],
   "source": [
    "demo(a)"
   ]
  },
  {
   "cell_type": "markdown",
   "id": "2bee247b",
   "metadata": {},
   "source": [
    "# module"
   ]
  },
  {
   "cell_type": "code",
   "execution_count": 192,
   "id": "6a221557",
   "metadata": {},
   "outputs": [],
   "source": [
    "def add (a,b):\n",
    "    c=a+b\n",
    "    return c "
   ]
  },
  {
   "cell_type": "code",
   "execution_count": 193,
   "id": "89c28b52",
   "metadata": {},
   "outputs": [
    {
     "data": {
      "text/plain": [
       "5"
      ]
     },
     "execution_count": 193,
     "metadata": {},
     "output_type": "execute_result"
    }
   ],
   "source": [
    "add(2,3)"
   ]
  },
  {
   "cell_type": "code",
   "execution_count": null,
   "id": "76499100",
   "metadata": {},
   "outputs": [],
   "source": []
  }
 ],
 "metadata": {
  "kernelspec": {
   "display_name": "Python 3 (ipykernel)",
   "language": "python",
   "name": "python3"
  },
  "language_info": {
   "codemirror_mode": {
    "name": "ipython",
    "version": 3
   },
   "file_extension": ".py",
   "mimetype": "text/x-python",
   "name": "python",
   "nbconvert_exporter": "python",
   "pygments_lexer": "ipython3",
   "version": "3.10.7"
  }
 },
 "nbformat": 4,
 "nbformat_minor": 5
}
