{
 "cells": [
  {
   "cell_type": "markdown",
   "id": "5c559ff5",
   "metadata": {},
   "source": [
    "# Python Basics"
   ]
  },
  {
   "cell_type": "markdown",
   "id": "eb404a96",
   "metadata": {},
   "source": [
    "## Variable - to store data types\n",
    "- not start a number,symbol\n",
    "- no gap\n",
    "- solud in left side and use ' = '\n",
    "- caps variable are different\n",
    "- variables are updatable\n",
    "\n",
    "\n"
   ]
  },
  {
   "cell_type": "code",
   "execution_count": 1,
   "id": "fba12448",
   "metadata": {},
   "outputs": [
    {
     "data": {
      "text/plain": [
       "1"
      ]
     },
     "execution_count": 1,
     "metadata": {},
     "output_type": "execute_result"
    }
   ],
   "source": [
    "a1=1\n",
    "a1          # variable"
   ]
  },
  {
   "cell_type": "code",
   "execution_count": 2,
   "id": "439c43cc",
   "metadata": {},
   "outputs": [],
   "source": [
    "a,b,c=1,2,3"
   ]
  },
  {
   "cell_type": "code",
   "execution_count": 3,
   "id": "86400891",
   "metadata": {},
   "outputs": [
    {
     "name": "stdout",
     "output_type": "stream",
     "text": [
      "1 2 3\n"
     ]
    }
   ],
   "source": [
    "print(a,b,c)"
   ]
  },
  {
   "cell_type": "markdown",
   "id": "26925eb2",
   "metadata": {},
   "source": [
    "# Data Types\n",
    "\n",
    "- int,float,complex_number\n",
    "- str\n",
    "- bool\n",
    "- list,tuple,set,dict\n",
    "\n",
    "\n",
    "To find type of the data use \n",
    "- type(a)"
   ]
  },
  {
   "cell_type": "markdown",
   "id": "d5af75f2",
   "metadata": {},
   "source": [
    "# Number Datatypes\n",
    "## int\n",
    "- whole numbers \n",
    "- example: 2\n",
    "\n",
    "## float\n",
    "- decimal value\n",
    "- example: 2.3\n",
    "\n",
    "## complex_number\n",
    "- example: 1+3J"
   ]
  },
  {
   "cell_type": "code",
   "execution_count": 4,
   "id": "81303a34",
   "metadata": {},
   "outputs": [
    {
     "data": {
      "text/plain": [
       "int"
      ]
     },
     "execution_count": 4,
     "metadata": {},
     "output_type": "execute_result"
    }
   ],
   "source": [
    "a=1\n",
    "type(a)"
   ]
  },
  {
   "cell_type": "code",
   "execution_count": 5,
   "id": "7224cad8",
   "metadata": {},
   "outputs": [
    {
     "data": {
      "text/plain": [
       "float"
      ]
     },
     "execution_count": 5,
     "metadata": {},
     "output_type": "execute_result"
    }
   ],
   "source": [
    "d=3.1\n",
    "type(d)"
   ]
  },
  {
   "cell_type": "code",
   "execution_count": 6,
   "id": "f70ab0a3",
   "metadata": {},
   "outputs": [
    {
     "data": {
      "text/plain": [
       "float"
      ]
     },
     "execution_count": 6,
     "metadata": {},
     "output_type": "execute_result"
    }
   ],
   "source": [
    "s=3.0\n",
    "type(s)"
   ]
  },
  {
   "cell_type": "code",
   "execution_count": 7,
   "id": "bff291ea",
   "metadata": {},
   "outputs": [
    {
     "data": {
      "text/plain": [
       "complex"
      ]
     },
     "execution_count": 7,
     "metadata": {},
     "output_type": "execute_result"
    }
   ],
   "source": [
    "type(1+3J)"
   ]
  },
  {
   "cell_type": "markdown",
   "id": "90ad042e",
   "metadata": {},
   "source": [
    "# Text Type\n",
    "\n",
    "## String (str)\n",
    "- use \" \"\n",
    "- u can use single, dobule or triple \" \""
   ]
  },
  {
   "cell_type": "code",
   "execution_count": 8,
   "id": "7b0c29a0",
   "metadata": {},
   "outputs": [],
   "source": [
    "f='i am happy'"
   ]
  },
  {
   "cell_type": "code",
   "execution_count": 9,
   "id": "4e251b4a",
   "metadata": {},
   "outputs": [
    {
     "data": {
      "text/plain": [
       "'i am happy'"
      ]
     },
     "execution_count": 9,
     "metadata": {},
     "output_type": "execute_result"
    }
   ],
   "source": [
    "f"
   ]
  },
  {
   "cell_type": "code",
   "execution_count": 10,
   "id": "8b4d1fb2",
   "metadata": {},
   "outputs": [
    {
     "data": {
      "text/plain": [
       "str"
      ]
     },
     "execution_count": 10,
     "metadata": {},
     "output_type": "execute_result"
    }
   ],
   "source": [
    "type(f)"
   ]
  },
  {
   "cell_type": "code",
   "execution_count": 11,
   "id": "d61c35fe",
   "metadata": {},
   "outputs": [
    {
     "data": {
      "text/plain": [
       "\"dad's money\""
      ]
     },
     "execution_count": 11,
     "metadata": {},
     "output_type": "execute_result"
    }
   ],
   "source": [
    "g= \"dad's money\"\n",
    "g"
   ]
  },
  {
   "cell_type": "markdown",
   "id": "66c3b95a",
   "metadata": {},
   "source": [
    "# Index\n",
    "- starts with 0\n",
    "- use[ ]\n",
    "- include white space while indexing"
   ]
  },
  {
   "cell_type": "code",
   "execution_count": 12,
   "id": "73201c5e",
   "metadata": {},
   "outputs": [],
   "source": [
    "f='i am happy'"
   ]
  },
  {
   "cell_type": "code",
   "execution_count": 13,
   "id": "2424a903",
   "metadata": {},
   "outputs": [
    {
     "data": {
      "text/plain": [
       "'i'"
      ]
     },
     "execution_count": 13,
     "metadata": {},
     "output_type": "execute_result"
    }
   ],
   "source": [
    "f[0]"
   ]
  },
  {
   "cell_type": "code",
   "execution_count": 14,
   "id": "fc76040a",
   "metadata": {},
   "outputs": [
    {
     "data": {
      "text/plain": [
       "' '"
      ]
     },
     "execution_count": 14,
     "metadata": {},
     "output_type": "execute_result"
    }
   ],
   "source": [
    "f[1]"
   ]
  },
  {
   "cell_type": "markdown",
   "id": "44590d51",
   "metadata": {},
   "source": [
    "# String Slicing\n",
    "- while slicing u need to add exta index (end)"
   ]
  },
  {
   "cell_type": "code",
   "execution_count": 91,
   "id": "65d9fe4d",
   "metadata": {},
   "outputs": [
    {
     "data": {
      "text/plain": [
       "'walk'"
      ]
     },
     "execution_count": 91,
     "metadata": {},
     "output_type": "execute_result"
    }
   ],
   "source": [
    "f='dance walk'\n",
    "f[6:10]"
   ]
  },
  {
   "cell_type": "code",
   "execution_count": 93,
   "id": "1129fabc",
   "metadata": {},
   "outputs": [
    {
     "data": {
      "text/plain": [
       "'dance'"
      ]
     },
     "execution_count": 93,
     "metadata": {},
     "output_type": "execute_result"
    }
   ],
   "source": [
    "f[-10:-5]"
   ]
  },
  {
   "cell_type": "code",
   "execution_count": null,
   "id": "374e2782",
   "metadata": {},
   "outputs": [],
   "source": []
  },
  {
   "cell_type": "markdown",
   "id": "5c612d01",
   "metadata": {},
   "source": [
    "## String concatination"
   ]
  },
  {
   "cell_type": "code",
   "execution_count": 17,
   "id": "31afc2b9",
   "metadata": {},
   "outputs": [],
   "source": [
    "a='i am '\n",
    "b='sabari '"
   ]
  },
  {
   "cell_type": "code",
   "execution_count": 18,
   "id": "dcb3292a",
   "metadata": {},
   "outputs": [],
   "source": [
    "c=a+b"
   ]
  },
  {
   "cell_type": "code",
   "execution_count": 19,
   "id": "6e5a08a9",
   "metadata": {},
   "outputs": [
    {
     "data": {
      "text/plain": [
       "'i am sabari '"
      ]
     },
     "execution_count": 19,
     "metadata": {},
     "output_type": "execute_result"
    }
   ],
   "source": [
    "c"
   ]
  },
  {
   "cell_type": "code",
   "execution_count": 20,
   "id": "7d32c354",
   "metadata": {},
   "outputs": [
    {
     "data": {
      "text/plain": [
       "'i am sabari i am sabari i am sabari '"
      ]
     },
     "execution_count": 20,
     "metadata": {},
     "output_type": "execute_result"
    }
   ],
   "source": [
    "3*c"
   ]
  },
  {
   "cell_type": "code",
   "execution_count": 21,
   "id": "bba73635",
   "metadata": {},
   "outputs": [
    {
     "data": {
      "text/plain": [
       "False"
      ]
     },
     "execution_count": 21,
     "metadata": {},
     "output_type": "execute_result"
    }
   ],
   "source": [
    "a.isalpha()"
   ]
  },
  {
   "cell_type": "code",
   "execution_count": 22,
   "id": "867ddac4",
   "metadata": {},
   "outputs": [
    {
     "data": {
      "text/plain": [
       "True"
      ]
     },
     "execution_count": 22,
     "metadata": {},
     "output_type": "execute_result"
    }
   ],
   "source": [
    "a='1'\n",
    "a.isnumeric()"
   ]
  },
  {
   "cell_type": "code",
   "execution_count": 23,
   "id": "77173517",
   "metadata": {},
   "outputs": [
    {
     "name": "stdout",
     "output_type": "stream",
     "text": [
      "sabari\n",
      "i am sabari\n"
     ]
    }
   ],
   "source": [
    "b= input()\n",
    "a='i am ' +b \n",
    "print(a)"
   ]
  },
  {
   "cell_type": "code",
   "execution_count": 24,
   "id": "a9050f6d",
   "metadata": {},
   "outputs": [
    {
     "name": "stdout",
     "output_type": "stream",
     "text": [
      "player name is kholi bating at 3\n"
     ]
    }
   ],
   "source": [
    "a='kholi'\n",
    "b='3'\n",
    "print(f'player name is {a} bating at {b}')"
   ]
  },
  {
   "cell_type": "code",
   "execution_count": 25,
   "id": "006ed8c9",
   "metadata": {},
   "outputs": [
    {
     "name": "stdout",
     "output_type": "stream",
     "text": [
      "player name is kholi bating at 3\n"
     ]
    }
   ],
   "source": [
    "a='kholi'\n",
    "b='3'\n",
    "print('player name is {} bating at {}'.format(a,b))"
   ]
  },
  {
   "cell_type": "code",
   "execution_count": 26,
   "id": "589c19ec",
   "metadata": {},
   "outputs": [],
   "source": [
    "a='kholi 1'"
   ]
  },
  {
   "cell_type": "code",
   "execution_count": 27,
   "id": "df1fceb6",
   "metadata": {},
   "outputs": [
    {
     "data": {
      "text/plain": [
       "'dholi 1'"
      ]
     },
     "execution_count": 27,
     "metadata": {},
     "output_type": "execute_result"
    }
   ],
   "source": [
    "a.replace('k','d')"
   ]
  },
  {
   "cell_type": "code",
   "execution_count": 28,
   "id": "b57d4ed0",
   "metadata": {},
   "outputs": [],
   "source": [
    "b=a.lower()"
   ]
  },
  {
   "cell_type": "code",
   "execution_count": 29,
   "id": "535ffe29",
   "metadata": {},
   "outputs": [
    {
     "data": {
      "text/plain": [
       "True"
      ]
     },
     "execution_count": 29,
     "metadata": {},
     "output_type": "execute_result"
    }
   ],
   "source": [
    "b.islower()"
   ]
  },
  {
   "cell_type": "code",
   "execution_count": 30,
   "id": "a249dd90",
   "metadata": {},
   "outputs": [],
   "source": [
    "a= '  i am goood g '\n",
    "a=a.strip()"
   ]
  },
  {
   "cell_type": "code",
   "execution_count": 31,
   "id": "dde6cd13",
   "metadata": {},
   "outputs": [
    {
     "data": {
      "text/plain": [
       "'i b goood g'"
      ]
     },
     "execution_count": 31,
     "metadata": {},
     "output_type": "execute_result"
    }
   ],
   "source": [
    "a.replace('am', 'b')"
   ]
  },
  {
   "cell_type": "code",
   "execution_count": 32,
   "id": "7bbb5862",
   "metadata": {},
   "outputs": [
    {
     "data": {
      "text/plain": [
       "'I Am Goood G'"
      ]
     },
     "execution_count": 32,
     "metadata": {},
     "output_type": "execute_result"
    }
   ],
   "source": [
    "a.title()"
   ]
  },
  {
   "cell_type": "code",
   "execution_count": 33,
   "id": "e22f0b11",
   "metadata": {},
   "outputs": [
    {
     "data": {
      "text/plain": [
       "'I am goood g'"
      ]
     },
     "execution_count": 33,
     "metadata": {},
     "output_type": "execute_result"
    }
   ],
   "source": [
    "a.capitalize()"
   ]
  },
  {
   "cell_type": "code",
   "execution_count": 34,
   "id": "e7e91801",
   "metadata": {},
   "outputs": [
    {
     "data": {
      "text/plain": [
       "9"
      ]
     },
     "execution_count": 34,
     "metadata": {},
     "output_type": "execute_result"
    }
   ],
   "source": [
    "a.find('d')"
   ]
  },
  {
   "cell_type": "code",
   "execution_count": 35,
   "id": "74b94514",
   "metadata": {},
   "outputs": [
    {
     "data": {
      "text/plain": [
       "3"
      ]
     },
     "execution_count": 35,
     "metadata": {},
     "output_type": "execute_result"
    }
   ],
   "source": [
    "a.count('o')"
   ]
  },
  {
   "cell_type": "code",
   "execution_count": 36,
   "id": "0f75d534",
   "metadata": {},
   "outputs": [
    {
     "name": "stdout",
     "output_type": "stream",
     "text": [
      "i am \n",
      " bad\n"
     ]
    }
   ],
   "source": [
    "print('i am \\n bad')"
   ]
  },
  {
   "cell_type": "markdown",
   "id": "a8bf4e02",
   "metadata": {},
   "source": [
    "# Type Casting\n",
    "\n",
    "- type conversion\n"
   ]
  },
  {
   "cell_type": "code",
   "execution_count": 37,
   "id": "0a099ede",
   "metadata": {},
   "outputs": [],
   "source": [
    "a=30.2"
   ]
  },
  {
   "cell_type": "code",
   "execution_count": 44,
   "id": "bc988785",
   "metadata": {},
   "outputs": [],
   "source": [
    "a=int(30.7)  # it won't round the value"
   ]
  },
  {
   "cell_type": "code",
   "execution_count": 43,
   "id": "5b3c1257",
   "metadata": {},
   "outputs": [
    {
     "data": {
      "text/plain": [
       "30"
      ]
     },
     "execution_count": 43,
     "metadata": {},
     "output_type": "execute_result"
    }
   ],
   "source": [
    "a"
   ]
  },
  {
   "cell_type": "code",
   "execution_count": 48,
   "id": "ae407fb6",
   "metadata": {},
   "outputs": [
    {
     "data": {
      "text/plain": [
       "float"
      ]
     },
     "execution_count": 48,
     "metadata": {},
     "output_type": "execute_result"
    }
   ],
   "source": [
    "b=float(13)\n",
    "type(b)"
   ]
  },
  {
   "cell_type": "code",
   "execution_count": 58,
   "id": "51245d44",
   "metadata": {},
   "outputs": [
    {
     "data": {
      "text/plain": [
       "str"
      ]
     },
     "execution_count": 58,
     "metadata": {},
     "output_type": "execute_result"
    }
   ],
   "source": [
    "a=str('1')\n",
    "type(a)"
   ]
  },
  {
   "cell_type": "code",
   "execution_count": 59,
   "id": "b28eacaa",
   "metadata": {},
   "outputs": [
    {
     "data": {
      "text/plain": [
       "'1'"
      ]
     },
     "execution_count": 59,
     "metadata": {},
     "output_type": "execute_result"
    }
   ],
   "source": [
    "a"
   ]
  },
  {
   "cell_type": "code",
   "execution_count": 60,
   "id": "ceedf345",
   "metadata": {},
   "outputs": [
    {
     "data": {
      "text/plain": [
       "1"
      ]
     },
     "execution_count": 60,
     "metadata": {},
     "output_type": "execute_result"
    }
   ],
   "source": [
    "c=int(a)\n",
    "c"
   ]
  },
  {
   "cell_type": "markdown",
   "id": "b359b05b",
   "metadata": {},
   "source": [
    "# BOOl"
   ]
  },
  {
   "cell_type": "code",
   "execution_count": 63,
   "id": "65593685",
   "metadata": {},
   "outputs": [],
   "source": [
    "a= 'i am good'"
   ]
  },
  {
   "cell_type": "code",
   "execution_count": 65,
   "id": "84f286c8",
   "metadata": {},
   "outputs": [
    {
     "data": {
      "text/plain": [
       "False"
      ]
     },
     "execution_count": 65,
     "metadata": {},
     "output_type": "execute_result"
    }
   ],
   "source": [
    "'f' in a"
   ]
  },
  {
   "cell_type": "markdown",
   "id": "7f306aaf",
   "metadata": {},
   "source": [
    "- list [ ]\n",
    "- tuple( )\n",
    "- set  { }\n",
    "- dict { }\n",
    "\n",
    "There are four collection data types in the Python programming language:\n",
    "- List is a collection which is ordered and changeable. Allows duplicate members.\n",
    "- Tuple is a collection which is ordered and unchangeable. Allows duplicate members.\n",
    "- Set is a collection which is unordered, unchangeable*, and unindexed. No duplicate members.\n",
    "- Dictionary is a collection which is ordered** and changeable. No duplicate members."
   ]
  },
  {
   "cell_type": "code",
   "execution_count": 113,
   "id": "1490a9d7",
   "metadata": {},
   "outputs": [
    {
     "data": {
      "text/plain": [
       "dict"
      ]
     },
     "execution_count": 113,
     "metadata": {},
     "output_type": "execute_result"
    }
   ],
   "source": [
    "type({})"
   ]
  },
  {
   "cell_type": "code",
   "execution_count": null,
   "id": "941e7e48",
   "metadata": {},
   "outputs": [],
   "source": []
  },
  {
   "cell_type": "markdown",
   "id": "791997b8",
   "metadata": {},
   "source": [
    "# List [  ]"
   ]
  },
  {
   "cell_type": "code",
   "execution_count": 125,
   "id": "54dafe57",
   "metadata": {},
   "outputs": [],
   "source": [
    "a=[1,2.0,'sabari',4,4,5]  # all data types, duplicates are allowed ,ordered"
   ]
  },
  {
   "cell_type": "code",
   "execution_count": 126,
   "id": "45222f43",
   "metadata": {},
   "outputs": [
    {
     "data": {
      "text/plain": [
       "[1, 2.0, 'sabari', 4, 4, 5]"
      ]
     },
     "execution_count": 126,
     "metadata": {},
     "output_type": "execute_result"
    }
   ],
   "source": [
    "a"
   ]
  },
  {
   "cell_type": "code",
   "execution_count": 127,
   "id": "d3eaf3bf",
   "metadata": {},
   "outputs": [
    {
     "data": {
      "text/plain": [
       "list"
      ]
     },
     "execution_count": 127,
     "metadata": {},
     "output_type": "execute_result"
    }
   ],
   "source": [
    "type(a)"
   ]
  },
  {
   "cell_type": "code",
   "execution_count": 128,
   "id": "d2ed1fce",
   "metadata": {},
   "outputs": [
    {
     "data": {
      "text/plain": [
       "1"
      ]
     },
     "execution_count": 128,
     "metadata": {},
     "output_type": "execute_result"
    }
   ],
   "source": [
    "# indexing and slicing is applicable\n",
    "\n",
    "a[0]"
   ]
  },
  {
   "cell_type": "code",
   "execution_count": 129,
   "id": "92898ba1",
   "metadata": {},
   "outputs": [
    {
     "data": {
      "text/plain": [
       "[1, 2.0, 'sabari', 4]"
      ]
     },
     "execution_count": 129,
     "metadata": {},
     "output_type": "execute_result"
    }
   ],
   "source": [
    "a[0:4]"
   ]
  },
  {
   "cell_type": "code",
   "execution_count": 130,
   "id": "346493ad",
   "metadata": {},
   "outputs": [
    {
     "data": {
      "text/plain": [
       "[1, 2.0, 'sabari', 4, 4, 5]"
      ]
     },
     "execution_count": 130,
     "metadata": {},
     "output_type": "execute_result"
    }
   ],
   "source": [
    "# lsit are mutable\n",
    "\n",
    "a"
   ]
  },
  {
   "cell_type": "code",
   "execution_count": 131,
   "id": "951dd1c1",
   "metadata": {},
   "outputs": [],
   "source": [
    "a[0]='python'"
   ]
  },
  {
   "cell_type": "code",
   "execution_count": 132,
   "id": "f1a7f38a",
   "metadata": {},
   "outputs": [
    {
     "data": {
      "text/plain": [
       "['python', 2.0, 'sabari', 4, 4, 5]"
      ]
     },
     "execution_count": 132,
     "metadata": {},
     "output_type": "execute_result"
    }
   ],
   "source": [
    "a"
   ]
  },
  {
   "cell_type": "code",
   "execution_count": 134,
   "id": "ee92ce23",
   "metadata": {},
   "outputs": [],
   "source": [
    "a.append(3)    #Append object to the end of the list."
   ]
  },
  {
   "cell_type": "code",
   "execution_count": 135,
   "id": "c6e5398f",
   "metadata": {},
   "outputs": [
    {
     "data": {
      "text/plain": [
       "['python', 2.0, 'sabari', 4, 4, 5, 3]"
      ]
     },
     "execution_count": 135,
     "metadata": {},
     "output_type": "execute_result"
    }
   ],
   "source": [
    "a"
   ]
  },
  {
   "cell_type": "code",
   "execution_count": 136,
   "id": "4b10d8e0",
   "metadata": {},
   "outputs": [],
   "source": [
    "a.clear()    #Remove all items from list."
   ]
  },
  {
   "cell_type": "code",
   "execution_count": 139,
   "id": "c997b93d",
   "metadata": {},
   "outputs": [],
   "source": [
    "a=[1,2.0,'sabari',4,4,5] "
   ]
  },
  {
   "cell_type": "code",
   "execution_count": 141,
   "id": "574124b4",
   "metadata": {},
   "outputs": [],
   "source": [
    "b=a.copy()   #Return a shallow copy of the list."
   ]
  },
  {
   "cell_type": "code",
   "execution_count": 142,
   "id": "32d1be5b",
   "metadata": {},
   "outputs": [
    {
     "data": {
      "text/plain": [
       "[1, 2.0, 'sabari', 4, 4, 5]"
      ]
     },
     "execution_count": 142,
     "metadata": {},
     "output_type": "execute_result"
    }
   ],
   "source": [
    "b"
   ]
  },
  {
   "cell_type": "markdown",
   "id": "d8beadfd",
   "metadata": {},
   "source": [
    "# why you have to use copy() ?"
   ]
  },
  {
   "cell_type": "code",
   "execution_count": 169,
   "id": "6a663e95",
   "metadata": {},
   "outputs": [],
   "source": [
    "a=[1,2,3,4,5]"
   ]
  },
  {
   "cell_type": "code",
   "execution_count": 170,
   "id": "3aa26e6a",
   "metadata": {},
   "outputs": [],
   "source": [
    "b=a.copy()"
   ]
  },
  {
   "cell_type": "code",
   "execution_count": 171,
   "id": "e3af4d0e",
   "metadata": {},
   "outputs": [
    {
     "data": {
      "text/plain": [
       "[1, 2, 3, 4, 5]"
      ]
     },
     "execution_count": 171,
     "metadata": {},
     "output_type": "execute_result"
    }
   ],
   "source": [
    "b"
   ]
  },
  {
   "cell_type": "code",
   "execution_count": 172,
   "id": "1e98bc88",
   "metadata": {},
   "outputs": [
    {
     "data": {
      "text/plain": [
       "['sabari', 2, 3, 4, 5]"
      ]
     },
     "execution_count": 172,
     "metadata": {},
     "output_type": "execute_result"
    }
   ],
   "source": [
    "b[0]='sabari'\n",
    "b"
   ]
  },
  {
   "cell_type": "code",
   "execution_count": 173,
   "id": "61f81ae0",
   "metadata": {},
   "outputs": [
    {
     "data": {
      "text/plain": [
       "[1, 2, 3, 4, 5]"
      ]
     },
     "execution_count": 173,
     "metadata": {},
     "output_type": "execute_result"
    }
   ],
   "source": [
    "a"
   ]
  },
  {
   "cell_type": "code",
   "execution_count": null,
   "id": "66c9b995",
   "metadata": {},
   "outputs": [],
   "source": []
  },
  {
   "cell_type": "code",
   "execution_count": null,
   "id": "41401333",
   "metadata": {},
   "outputs": [],
   "source": []
  }
 ],
 "metadata": {
  "kernelspec": {
   "display_name": "Python 3 (ipykernel)",
   "language": "python",
   "name": "python3"
  },
  "language_info": {
   "codemirror_mode": {
    "name": "ipython",
    "version": 3
   },
   "file_extension": ".py",
   "mimetype": "text/x-python",
   "name": "python",
   "nbconvert_exporter": "python",
   "pygments_lexer": "ipython3",
   "version": "3.10.7"
  }
 },
 "nbformat": 4,
 "nbformat_minor": 5
}
