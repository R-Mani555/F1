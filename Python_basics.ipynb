{
 "cells": [
  {
   "cell_type": "markdown",
   "id": "5c559ff5",
   "metadata": {},
   "source": [
    "# Python Basics"
   ]
  },
  {
   "cell_type": "markdown",
   "id": "eb404a96",
   "metadata": {},
   "source": [
    "## Variable - to store data values\n",
    "- not start a number,symbol\n",
    "- no gap\n",
    "- solud in left side and use ' = '\n",
    "- caps variable are different\n",
    "- variables are updatable\n",
    "\n",
    "\n"
   ]
  },
  {
   "cell_type": "code",
   "execution_count": 49,
   "id": "fba12448",
   "metadata": {},
   "outputs": [
    {
     "data": {
      "text/plain": [
       "1"
      ]
     },
     "execution_count": 49,
     "metadata": {},
     "output_type": "execute_result"
    }
   ],
   "source": [
    "a1=1\n",
    "a1          # variable"
   ]
  },
  {
   "cell_type": "code",
   "execution_count": 2,
   "id": "439c43cc",
   "metadata": {},
   "outputs": [],
   "source": [
    "a,b,c=1,2,3"
   ]
  },
  {
   "cell_type": "code",
   "execution_count": 3,
   "id": "86400891",
   "metadata": {},
   "outputs": [
    {
     "name": "stdout",
     "output_type": "stream",
     "text": [
      "1 2 3\n"
     ]
    }
   ],
   "source": [
    "print(a,b,c)"
   ]
  },
  {
   "cell_type": "markdown",
   "id": "26925eb2",
   "metadata": {},
   "source": [
    "# Data Types\n",
    "\n",
    "- int,float,complex_number\n",
    "- str\n",
    "- bool\n",
    "- list,tuple,set,dict\n",
    "\n",
    "\n",
    "To find type of the data use \n",
    "- type(a)"
   ]
  },
  {
   "cell_type": "markdown",
   "id": "d5af75f2",
   "metadata": {},
   "source": [
    "# Number Datatypes\n",
    "## int\n",
    "- whole numbers \n",
    "- example: 2\n",
    "\n",
    "## float\n",
    "- decimal value\n",
    "- example: 2.3\n",
    "\n",
    "## complex_number\n",
    "- example: 1+3J"
   ]
  },
  {
   "cell_type": "code",
   "execution_count": 4,
   "id": "81303a34",
   "metadata": {},
   "outputs": [
    {
     "data": {
      "text/plain": [
       "int"
      ]
     },
     "execution_count": 4,
     "metadata": {},
     "output_type": "execute_result"
    }
   ],
   "source": [
    "a=1\n",
    "type(a)"
   ]
  },
  {
   "cell_type": "code",
   "execution_count": 5,
   "id": "7224cad8",
   "metadata": {},
   "outputs": [
    {
     "data": {
      "text/plain": [
       "float"
      ]
     },
     "execution_count": 5,
     "metadata": {},
     "output_type": "execute_result"
    }
   ],
   "source": [
    "d=3.1\n",
    "type(d)"
   ]
  },
  {
   "cell_type": "code",
   "execution_count": 47,
   "id": "f70ab0a3",
   "metadata": {},
   "outputs": [
    {
     "data": {
      "text/plain": [
       "float"
      ]
     },
     "execution_count": 47,
     "metadata": {},
     "output_type": "execute_result"
    }
   ],
   "source": [
    "s=3.0\n",
    "type(s)"
   ]
  },
  {
   "cell_type": "code",
   "execution_count": 48,
   "id": "bff291ea",
   "metadata": {},
   "outputs": [
    {
     "data": {
      "text/plain": [
       "complex"
      ]
     },
     "execution_count": 48,
     "metadata": {},
     "output_type": "execute_result"
    }
   ],
   "source": [
    "type(1+3J)"
   ]
  },
  {
   "cell_type": "markdown",
   "id": "90ad042e",
   "metadata": {},
   "source": [
    "# Text Type\n",
    "\n",
    "## String (str)\n",
    "- use \" \"\n",
    "- u can use single, dobule or triple \" \""
   ]
  },
  {
   "cell_type": "code",
   "execution_count": 8,
   "id": "7b0c29a0",
   "metadata": {},
   "outputs": [],
   "source": [
    "f='i am happy'"
   ]
  },
  {
   "cell_type": "code",
   "execution_count": 9,
   "id": "4e251b4a",
   "metadata": {},
   "outputs": [
    {
     "data": {
      "text/plain": [
       "'i am happy'"
      ]
     },
     "execution_count": 9,
     "metadata": {},
     "output_type": "execute_result"
    }
   ],
   "source": [
    "f"
   ]
  },
  {
   "cell_type": "code",
   "execution_count": 10,
   "id": "8b4d1fb2",
   "metadata": {},
   "outputs": [
    {
     "data": {
      "text/plain": [
       "str"
      ]
     },
     "execution_count": 10,
     "metadata": {},
     "output_type": "execute_result"
    }
   ],
   "source": [
    "type(f)"
   ]
  },
  {
   "cell_type": "code",
   "execution_count": 11,
   "id": "d61c35fe",
   "metadata": {},
   "outputs": [
    {
     "data": {
      "text/plain": [
       "\"dad's money\""
      ]
     },
     "execution_count": 11,
     "metadata": {},
     "output_type": "execute_result"
    }
   ],
   "source": [
    "g= \"dad's money\"\n",
    "g"
   ]
  },
  {
   "cell_type": "markdown",
   "id": "66c3b95a",
   "metadata": {},
   "source": [
    "# Index\n",
    "- starts with 0\n",
    "- use[ ]\n",
    "- include white space while indexing"
   ]
  },
  {
   "cell_type": "code",
   "execution_count": 12,
   "id": "73201c5e",
   "metadata": {},
   "outputs": [],
   "source": [
    "f='i am happy'"
   ]
  },
  {
   "cell_type": "code",
   "execution_count": 13,
   "id": "2424a903",
   "metadata": {},
   "outputs": [
    {
     "data": {
      "text/plain": [
       "'i'"
      ]
     },
     "execution_count": 13,
     "metadata": {},
     "output_type": "execute_result"
    }
   ],
   "source": [
    "f[0]"
   ]
  },
  {
   "cell_type": "code",
   "execution_count": 14,
   "id": "fc76040a",
   "metadata": {},
   "outputs": [
    {
     "data": {
      "text/plain": [
       "' '"
      ]
     },
     "execution_count": 14,
     "metadata": {},
     "output_type": "execute_result"
    }
   ],
   "source": [
    "f[1]"
   ]
  },
  {
   "cell_type": "markdown",
   "id": "44590d51",
   "metadata": {},
   "source": [
    "# String Slicing\n",
    "- while slicing u need to add exta index (end)"
   ]
  },
  {
   "cell_type": "code",
   "execution_count": 91,
   "id": "65d9fe4d",
   "metadata": {},
   "outputs": [
    {
     "data": {
      "text/plain": [
       "'walk'"
      ]
     },
     "execution_count": 91,
     "metadata": {},
     "output_type": "execute_result"
    }
   ],
   "source": [
    "f='dance walk'\n",
    "f[6:10]"
   ]
  },
  {
   "cell_type": "code",
   "execution_count": 93,
   "id": "1129fabc",
   "metadata": {},
   "outputs": [
    {
     "data": {
      "text/plain": [
       "'dance'"
      ]
     },
     "execution_count": 93,
     "metadata": {},
     "output_type": "execute_result"
    }
   ],
   "source": [
    "f[-10:-5]"
   ]
  },
  {
   "cell_type": "code",
   "execution_count": null,
   "id": "374e2782",
   "metadata": {},
   "outputs": [],
   "source": []
  },
  {
   "cell_type": "markdown",
   "id": "5c612d01",
   "metadata": {},
   "source": [
    "## String concatination"
   ]
  },
  {
   "cell_type": "code",
   "execution_count": 17,
   "id": "31afc2b9",
   "metadata": {},
   "outputs": [],
   "source": [
    "a='i am '\n",
    "b='sabari '"
   ]
  },
  {
   "cell_type": "code",
   "execution_count": 18,
   "id": "dcb3292a",
   "metadata": {},
   "outputs": [],
   "source": [
    "c=a+b"
   ]
  },
  {
   "cell_type": "code",
   "execution_count": 19,
   "id": "6e5a08a9",
   "metadata": {},
   "outputs": [
    {
     "data": {
      "text/plain": [
       "'i am sabari '"
      ]
     },
     "execution_count": 19,
     "metadata": {},
     "output_type": "execute_result"
    }
   ],
   "source": [
    "c"
   ]
  },
  {
   "cell_type": "code",
   "execution_count": 20,
   "id": "7d32c354",
   "metadata": {},
   "outputs": [
    {
     "data": {
      "text/plain": [
       "'i am sabari i am sabari i am sabari '"
      ]
     },
     "execution_count": 20,
     "metadata": {},
     "output_type": "execute_result"
    }
   ],
   "source": [
    "3*c"
   ]
  },
  {
   "cell_type": "code",
   "execution_count": 21,
   "id": "bba73635",
   "metadata": {},
   "outputs": [
    {
     "data": {
      "text/plain": [
       "False"
      ]
     },
     "execution_count": 21,
     "metadata": {},
     "output_type": "execute_result"
    }
   ],
   "source": [
    "a.isalpha()"
   ]
  },
  {
   "cell_type": "code",
   "execution_count": 22,
   "id": "867ddac4",
   "metadata": {},
   "outputs": [
    {
     "data": {
      "text/plain": [
       "True"
      ]
     },
     "execution_count": 22,
     "metadata": {},
     "output_type": "execute_result"
    }
   ],
   "source": [
    "a='1'\n",
    "a.isnumeric()"
   ]
  },
  {
   "cell_type": "code",
   "execution_count": 23,
   "id": "77173517",
   "metadata": {},
   "outputs": [
    {
     "name": "stdout",
     "output_type": "stream",
     "text": [
      "sabari\n",
      "i am sabari\n"
     ]
    }
   ],
   "source": [
    "b= input()\n",
    "a='i am ' +b \n",
    "print(a)"
   ]
  },
  {
   "cell_type": "code",
   "execution_count": 24,
   "id": "a9050f6d",
   "metadata": {},
   "outputs": [
    {
     "name": "stdout",
     "output_type": "stream",
     "text": [
      "player name is kholi bating at 3\n"
     ]
    }
   ],
   "source": [
    "a='kholi'\n",
    "b='3'\n",
    "print(f'player name is {a} bating at {b}')"
   ]
  },
  {
   "cell_type": "code",
   "execution_count": 25,
   "id": "006ed8c9",
   "metadata": {},
   "outputs": [
    {
     "name": "stdout",
     "output_type": "stream",
     "text": [
      "player name is kholi bating at 3\n"
     ]
    }
   ],
   "source": [
    "a='kholi'\n",
    "b='3'\n",
    "print('player name is {} bating at {}'.format(a,b))"
   ]
  },
  {
   "cell_type": "code",
   "execution_count": 26,
   "id": "589c19ec",
   "metadata": {},
   "outputs": [],
   "source": [
    "a='kholi 1'"
   ]
  },
  {
   "cell_type": "code",
   "execution_count": 27,
   "id": "df1fceb6",
   "metadata": {},
   "outputs": [
    {
     "data": {
      "text/plain": [
       "'dholi 1'"
      ]
     },
     "execution_count": 27,
     "metadata": {},
     "output_type": "execute_result"
    }
   ],
   "source": [
    "a.replace('k','d')"
   ]
  },
  {
   "cell_type": "code",
   "execution_count": 28,
   "id": "b57d4ed0",
   "metadata": {},
   "outputs": [],
   "source": [
    "b=a.lower()"
   ]
  },
  {
   "cell_type": "code",
   "execution_count": 29,
   "id": "535ffe29",
   "metadata": {},
   "outputs": [
    {
     "data": {
      "text/plain": [
       "True"
      ]
     },
     "execution_count": 29,
     "metadata": {},
     "output_type": "execute_result"
    }
   ],
   "source": [
    "b.islower()"
   ]
  },
  {
   "cell_type": "code",
   "execution_count": 30,
   "id": "a249dd90",
   "metadata": {},
   "outputs": [],
   "source": [
    "a= '  i am goood g '\n",
    "a=a.strip()"
   ]
  },
  {
   "cell_type": "code",
   "execution_count": 31,
   "id": "dde6cd13",
   "metadata": {},
   "outputs": [
    {
     "data": {
      "text/plain": [
       "'i b goood g'"
      ]
     },
     "execution_count": 31,
     "metadata": {},
     "output_type": "execute_result"
    }
   ],
   "source": [
    "a.replace('am', 'b')"
   ]
  },
  {
   "cell_type": "code",
   "execution_count": 32,
   "id": "7bbb5862",
   "metadata": {},
   "outputs": [
    {
     "data": {
      "text/plain": [
       "'I Am Goood G'"
      ]
     },
     "execution_count": 32,
     "metadata": {},
     "output_type": "execute_result"
    }
   ],
   "source": [
    "a.title()"
   ]
  },
  {
   "cell_type": "code",
   "execution_count": 33,
   "id": "e22f0b11",
   "metadata": {},
   "outputs": [
    {
     "data": {
      "text/plain": [
       "'I am goood g'"
      ]
     },
     "execution_count": 33,
     "metadata": {},
     "output_type": "execute_result"
    }
   ],
   "source": [
    "a.capitalize()"
   ]
  },
  {
   "cell_type": "code",
   "execution_count": 34,
   "id": "e7e91801",
   "metadata": {},
   "outputs": [
    {
     "data": {
      "text/plain": [
       "9"
      ]
     },
     "execution_count": 34,
     "metadata": {},
     "output_type": "execute_result"
    }
   ],
   "source": [
    "a.find('d')"
   ]
  },
  {
   "cell_type": "code",
   "execution_count": 35,
   "id": "74b94514",
   "metadata": {},
   "outputs": [
    {
     "data": {
      "text/plain": [
       "3"
      ]
     },
     "execution_count": 35,
     "metadata": {},
     "output_type": "execute_result"
    }
   ],
   "source": [
    "a.count('o')"
   ]
  },
  {
   "cell_type": "code",
   "execution_count": 36,
   "id": "0f75d534",
   "metadata": {},
   "outputs": [
    {
     "name": "stdout",
     "output_type": "stream",
     "text": [
      "i am \n",
      " bad\n"
     ]
    }
   ],
   "source": [
    "print('i am \\n bad')"
   ]
  },
  {
   "cell_type": "markdown",
   "id": "a8bf4e02",
   "metadata": {},
   "source": [
    "# Type Casting\n",
    "\n",
    "- type conversion\n"
   ]
  },
  {
   "cell_type": "code",
   "execution_count": 37,
   "id": "0a099ede",
   "metadata": {},
   "outputs": [],
   "source": [
    "a=30.2"
   ]
  },
  {
   "cell_type": "code",
   "execution_count": 44,
   "id": "bc988785",
   "metadata": {},
   "outputs": [],
   "source": [
    "a=int(30.7)  # it won't round the value"
   ]
  },
  {
   "cell_type": "code",
   "execution_count": 43,
   "id": "5b3c1257",
   "metadata": {},
   "outputs": [
    {
     "data": {
      "text/plain": [
       "30"
      ]
     },
     "execution_count": 43,
     "metadata": {},
     "output_type": "execute_result"
    }
   ],
   "source": [
    "a"
   ]
  },
  {
   "cell_type": "code",
   "execution_count": 48,
   "id": "ae407fb6",
   "metadata": {},
   "outputs": [
    {
     "data": {
      "text/plain": [
       "float"
      ]
     },
     "execution_count": 48,
     "metadata": {},
     "output_type": "execute_result"
    }
   ],
   "source": [
    "b=float(13)\n",
    "type(b)"
   ]
  },
  {
   "cell_type": "code",
   "execution_count": 58,
   "id": "51245d44",
   "metadata": {},
   "outputs": [
    {
     "data": {
      "text/plain": [
       "str"
      ]
     },
     "execution_count": 58,
     "metadata": {},
     "output_type": "execute_result"
    }
   ],
   "source": [
    "a=str('1')\n",
    "type(a)"
   ]
  },
  {
   "cell_type": "code",
   "execution_count": 59,
   "id": "b28eacaa",
   "metadata": {},
   "outputs": [
    {
     "data": {
      "text/plain": [
       "'1'"
      ]
     },
     "execution_count": 59,
     "metadata": {},
     "output_type": "execute_result"
    }
   ],
   "source": [
    "a"
   ]
  },
  {
   "cell_type": "code",
   "execution_count": 60,
   "id": "ceedf345",
   "metadata": {},
   "outputs": [
    {
     "data": {
      "text/plain": [
       "1"
      ]
     },
     "execution_count": 60,
     "metadata": {},
     "output_type": "execute_result"
    }
   ],
   "source": [
    "c=int(a)\n",
    "c"
   ]
  },
  {
   "cell_type": "markdown",
   "id": "b359b05b",
   "metadata": {},
   "source": [
    "# BOOl"
   ]
  },
  {
   "cell_type": "code",
   "execution_count": 63,
   "id": "65593685",
   "metadata": {},
   "outputs": [],
   "source": [
    "a= 'i am good'"
   ]
  },
  {
   "cell_type": "code",
   "execution_count": 65,
   "id": "84f286c8",
   "metadata": {},
   "outputs": [
    {
     "data": {
      "text/plain": [
       "False"
      ]
     },
     "execution_count": 65,
     "metadata": {},
     "output_type": "execute_result"
    }
   ],
   "source": [
    "'f' in a"
   ]
  },
  {
   "cell_type": "markdown",
   "id": "7f306aaf",
   "metadata": {},
   "source": [
    "- list [ ]\n",
    "- tuple( )\n",
    "- set  { }\n",
    "- dict { }\n",
    "\n",
    "There are four collection data types in the Python programming language:\n",
    "- List is a collection which is ordered and changeable. Allows duplicate members.\n",
    "- Tuple is a collection which is ordered and unchangeable. Allows duplicate members.\n",
    "- Set is a collection which is unordered, unchangeable*, and unindexed. No duplicate members.\n",
    "- Dictionary is a collection which is ordered** and changeable. No duplicate members."
   ]
  },
  {
   "cell_type": "code",
   "execution_count": 32,
   "id": "1490a9d7",
   "metadata": {},
   "outputs": [
    {
     "data": {
      "text/plain": [
       "dict"
      ]
     },
     "execution_count": 32,
     "metadata": {},
     "output_type": "execute_result"
    }
   ],
   "source": [
    "type({})"
   ]
  },
  {
   "cell_type": "markdown",
   "id": "791997b8",
   "metadata": {},
   "source": [
    "# List [  ]"
   ]
  },
  {
   "cell_type": "code",
   "execution_count": 125,
   "id": "54dafe57",
   "metadata": {},
   "outputs": [],
   "source": [
    "a=[1,2.0,'sabari',4,4,5]  # all data types, duplicates are allowed ,ordered"
   ]
  },
  {
   "cell_type": "code",
   "execution_count": 126,
   "id": "45222f43",
   "metadata": {},
   "outputs": [
    {
     "data": {
      "text/plain": [
       "[1, 2.0, 'sabari', 4, 4, 5]"
      ]
     },
     "execution_count": 126,
     "metadata": {},
     "output_type": "execute_result"
    }
   ],
   "source": [
    "a"
   ]
  },
  {
   "cell_type": "code",
   "execution_count": 127,
   "id": "d3eaf3bf",
   "metadata": {},
   "outputs": [
    {
     "data": {
      "text/plain": [
       "list"
      ]
     },
     "execution_count": 127,
     "metadata": {},
     "output_type": "execute_result"
    }
   ],
   "source": [
    "type(a)"
   ]
  },
  {
   "cell_type": "code",
   "execution_count": 128,
   "id": "d2ed1fce",
   "metadata": {},
   "outputs": [
    {
     "data": {
      "text/plain": [
       "1"
      ]
     },
     "execution_count": 128,
     "metadata": {},
     "output_type": "execute_result"
    }
   ],
   "source": [
    "# indexing and slicing is applicable\n",
    "\n",
    "a[0]"
   ]
  },
  {
   "cell_type": "code",
   "execution_count": 129,
   "id": "92898ba1",
   "metadata": {},
   "outputs": [
    {
     "data": {
      "text/plain": [
       "[1, 2.0, 'sabari', 4]"
      ]
     },
     "execution_count": 129,
     "metadata": {},
     "output_type": "execute_result"
    }
   ],
   "source": [
    "a[0:4]"
   ]
  },
  {
   "cell_type": "code",
   "execution_count": 130,
   "id": "346493ad",
   "metadata": {},
   "outputs": [
    {
     "data": {
      "text/plain": [
       "[1, 2.0, 'sabari', 4, 4, 5]"
      ]
     },
     "execution_count": 130,
     "metadata": {},
     "output_type": "execute_result"
    }
   ],
   "source": [
    "# lsit are mutable\n",
    "\n",
    "a"
   ]
  },
  {
   "cell_type": "code",
   "execution_count": 131,
   "id": "951dd1c1",
   "metadata": {},
   "outputs": [],
   "source": [
    "a[0]='python'"
   ]
  },
  {
   "cell_type": "code",
   "execution_count": 132,
   "id": "f1a7f38a",
   "metadata": {},
   "outputs": [
    {
     "data": {
      "text/plain": [
       "['python', 2.0, 'sabari', 4, 4, 5]"
      ]
     },
     "execution_count": 132,
     "metadata": {},
     "output_type": "execute_result"
    }
   ],
   "source": [
    "a"
   ]
  },
  {
   "cell_type": "code",
   "execution_count": 134,
   "id": "ee92ce23",
   "metadata": {},
   "outputs": [],
   "source": [
    "a.append(3)    #Append object to the end of the list."
   ]
  },
  {
   "cell_type": "code",
   "execution_count": 135,
   "id": "c6e5398f",
   "metadata": {},
   "outputs": [
    {
     "data": {
      "text/plain": [
       "['python', 2.0, 'sabari', 4, 4, 5, 3]"
      ]
     },
     "execution_count": 135,
     "metadata": {},
     "output_type": "execute_result"
    }
   ],
   "source": [
    "a"
   ]
  },
  {
   "cell_type": "code",
   "execution_count": 136,
   "id": "4b10d8e0",
   "metadata": {},
   "outputs": [],
   "source": [
    "a.clear()    #Remove all items from list."
   ]
  },
  {
   "cell_type": "code",
   "execution_count": 139,
   "id": "c997b93d",
   "metadata": {},
   "outputs": [],
   "source": [
    "a=[1,2.0,'sabari',4,4,5] "
   ]
  },
  {
   "cell_type": "code",
   "execution_count": 141,
   "id": "574124b4",
   "metadata": {},
   "outputs": [],
   "source": [
    "b=a.copy()   #Return a shallow copy of the list."
   ]
  },
  {
   "cell_type": "code",
   "execution_count": 142,
   "id": "32d1be5b",
   "metadata": {},
   "outputs": [
    {
     "data": {
      "text/plain": [
       "[1, 2.0, 'sabari', 4, 4, 5]"
      ]
     },
     "execution_count": 142,
     "metadata": {},
     "output_type": "execute_result"
    }
   ],
   "source": [
    "b"
   ]
  },
  {
   "cell_type": "markdown",
   "id": "d8beadfd",
   "metadata": {},
   "source": [
    "# why you have to use copy() ?"
   ]
  },
  {
   "cell_type": "code",
   "execution_count": 169,
   "id": "6a663e95",
   "metadata": {},
   "outputs": [],
   "source": [
    "a=[1,2,3,4,5]"
   ]
  },
  {
   "cell_type": "code",
   "execution_count": 170,
   "id": "3aa26e6a",
   "metadata": {},
   "outputs": [],
   "source": [
    "b=a.copy()"
   ]
  },
  {
   "cell_type": "code",
   "execution_count": 171,
   "id": "e3af4d0e",
   "metadata": {},
   "outputs": [
    {
     "data": {
      "text/plain": [
       "[1, 2, 3, 4, 5]"
      ]
     },
     "execution_count": 171,
     "metadata": {},
     "output_type": "execute_result"
    }
   ],
   "source": [
    "b"
   ]
  },
  {
   "cell_type": "code",
   "execution_count": 172,
   "id": "1e98bc88",
   "metadata": {},
   "outputs": [
    {
     "data": {
      "text/plain": [
       "['sabari', 2, 3, 4, 5]"
      ]
     },
     "execution_count": 172,
     "metadata": {},
     "output_type": "execute_result"
    }
   ],
   "source": [
    "b[0]='sabari'\n",
    "b"
   ]
  },
  {
   "cell_type": "code",
   "execution_count": 173,
   "id": "61f81ae0",
   "metadata": {},
   "outputs": [
    {
     "data": {
      "text/plain": [
       "[1, 2, 3, 4, 5]"
      ]
     },
     "execution_count": 173,
     "metadata": {},
     "output_type": "execute_result"
    }
   ],
   "source": [
    "a"
   ]
  },
  {
   "cell_type": "markdown",
   "id": "caa8a519",
   "metadata": {},
   "source": [
    "# Tuples ( )"
   ]
  },
  {
   "cell_type": "code",
   "execution_count": 23,
   "id": "a9c3cdbb",
   "metadata": {},
   "outputs": [],
   "source": [
    "a=(1,2,3,7,5,5.0,6,'name')"
   ]
  },
  {
   "cell_type": "code",
   "execution_count": 24,
   "id": "189ab485",
   "metadata": {},
   "outputs": [
    {
     "data": {
      "text/plain": [
       "tuple"
      ]
     },
     "execution_count": 24,
     "metadata": {},
     "output_type": "execute_result"
    }
   ],
   "source": [
    "type(a)"
   ]
  },
  {
   "cell_type": "code",
   "execution_count": 25,
   "id": "b3d4ec4a",
   "metadata": {},
   "outputs": [
    {
     "data": {
      "text/plain": [
       "(1, 2, 3, 7, 5, 5.0, 6, 'name')"
      ]
     },
     "execution_count": 25,
     "metadata": {},
     "output_type": "execute_result"
    }
   ],
   "source": [
    "a                # ordered , immutal,duplicates and all data types are allowed"
   ]
  },
  {
   "cell_type": "code",
   "execution_count": 26,
   "id": "8c5099f3",
   "metadata": {},
   "outputs": [
    {
     "data": {
      "text/plain": [
       "2"
      ]
     },
     "execution_count": 26,
     "metadata": {},
     "output_type": "execute_result"
    }
   ],
   "source": [
    "a.count(5)"
   ]
  },
  {
   "cell_type": "code",
   "execution_count": 28,
   "id": "d2664c9f",
   "metadata": {},
   "outputs": [
    {
     "data": {
      "text/plain": [
       "3"
      ]
     },
     "execution_count": 28,
     "metadata": {},
     "output_type": "execute_result"
    }
   ],
   "source": [
    "a.index(7)"
   ]
  },
  {
   "cell_type": "markdown",
   "id": "28c8d974",
   "metadata": {},
   "source": [
    "# Set { }"
   ]
  },
  {
   "cell_type": "code",
   "execution_count": 1,
   "id": "30a52cab",
   "metadata": {},
   "outputs": [],
   "source": [
    "d={1,2,3,4,5}"
   ]
  },
  {
   "cell_type": "code",
   "execution_count": 2,
   "id": "61192717",
   "metadata": {},
   "outputs": [
    {
     "data": {
      "text/plain": [
       "set"
      ]
     },
     "execution_count": 2,
     "metadata": {},
     "output_type": "execute_result"
    }
   ],
   "source": [
    "type(d)"
   ]
  },
  {
   "cell_type": "code",
   "execution_count": 3,
   "id": "d8d12e1c",
   "metadata": {},
   "outputs": [
    {
     "data": {
      "text/plain": [
       "{1, 2, 3, 4, 5}"
      ]
     },
     "execution_count": 3,
     "metadata": {},
     "output_type": "execute_result"
    }
   ],
   "source": [
    "d"
   ]
  },
  {
   "cell_type": "code",
   "execution_count": 10,
   "id": "a8cd550b",
   "metadata": {},
   "outputs": [],
   "source": [
    "f={'apple', 'orange', 'apple', 'pear', 'orange', 'banana'}"
   ]
  },
  {
   "cell_type": "code",
   "execution_count": 11,
   "id": "3ba2bf6d",
   "metadata": {},
   "outputs": [
    {
     "name": "stdout",
     "output_type": "stream",
     "text": [
      "{'pear', 'apple', 'banana', 'orange'}\n"
     ]
    }
   ],
   "source": [
    "print(f)"
   ]
  },
  {
   "cell_type": "code",
   "execution_count": 15,
   "id": "9097e440",
   "metadata": {},
   "outputs": [
    {
     "data": {
      "text/plain": [
       "'pear'"
      ]
     },
     "execution_count": 15,
     "metadata": {},
     "output_type": "execute_result"
    }
   ],
   "source": [
    "f.pop()"
   ]
  },
  {
   "cell_type": "code",
   "execution_count": 16,
   "id": "09b399f7",
   "metadata": {},
   "outputs": [
    {
     "data": {
      "text/plain": [
       "{'apple', 'banana', 'orange'}"
      ]
     },
     "execution_count": 16,
     "metadata": {},
     "output_type": "execute_result"
    }
   ],
   "source": [
    "f"
   ]
  },
  {
   "cell_type": "code",
   "execution_count": 19,
   "id": "41401333",
   "metadata": {},
   "outputs": [
    {
     "data": {
      "text/plain": [
       "'apple'"
      ]
     },
     "execution_count": 19,
     "metadata": {},
     "output_type": "execute_result"
    }
   ],
   "source": [
    "f.pop()"
   ]
  },
  {
   "cell_type": "code",
   "execution_count": 20,
   "id": "81ac962c",
   "metadata": {},
   "outputs": [
    {
     "data": {
      "text/plain": [
       "{'banana', 'orange'}"
      ]
     },
     "execution_count": 20,
     "metadata": {},
     "output_type": "execute_result"
    }
   ],
   "source": [
    "f"
   ]
  },
  {
   "cell_type": "code",
   "execution_count": 22,
   "id": "c28c2114",
   "metadata": {},
   "outputs": [],
   "source": [
    "f.remove('orange')"
   ]
  },
  {
   "cell_type": "code",
   "execution_count": 23,
   "id": "8c8e42b7",
   "metadata": {},
   "outputs": [
    {
     "data": {
      "text/plain": [
       "{'banana'}"
      ]
     },
     "execution_count": 23,
     "metadata": {},
     "output_type": "execute_result"
    }
   ],
   "source": [
    "f"
   ]
  },
  {
   "cell_type": "markdown",
   "id": "60c1be35",
   "metadata": {},
   "source": [
    " # Dict { }"
   ]
  },
  {
   "cell_type": "code",
   "execution_count": 28,
   "id": "afd99cc0",
   "metadata": {},
   "outputs": [],
   "source": [
    "g={'keys': 1}"
   ]
  },
  {
   "cell_type": "code",
   "execution_count": 27,
   "id": "72e0b87b",
   "metadata": {},
   "outputs": [
    {
     "data": {
      "text/plain": [
       "dict"
      ]
     },
     "execution_count": 27,
     "metadata": {},
     "output_type": "execute_result"
    }
   ],
   "source": [
    "type(g)"
   ]
  },
  {
   "cell_type": "code",
   "execution_count": 29,
   "id": "5fe8300f",
   "metadata": {},
   "outputs": [],
   "source": [
    "h={'jack': 4098, 'sape': 4139}"
   ]
  },
  {
   "cell_type": "code",
   "execution_count": 30,
   "id": "ede1320d",
   "metadata": {},
   "outputs": [
    {
     "data": {
      "text/plain": [
       "dict"
      ]
     },
     "execution_count": 30,
     "metadata": {},
     "output_type": "execute_result"
    }
   ],
   "source": [
    "type(h)"
   ]
  },
  {
   "cell_type": "code",
   "execution_count": 33,
   "id": "198a4481",
   "metadata": {},
   "outputs": [
    {
     "data": {
      "text/plain": [
       "dict_keys(['jack', 'sape'])"
      ]
     },
     "execution_count": 33,
     "metadata": {},
     "output_type": "execute_result"
    }
   ],
   "source": [
    "h.keys()"
   ]
  },
  {
   "cell_type": "code",
   "execution_count": 34,
   "id": "1f5445f0",
   "metadata": {},
   "outputs": [
    {
     "data": {
      "text/plain": [
       "dict_values([4098, 4139])"
      ]
     },
     "execution_count": 34,
     "metadata": {},
     "output_type": "execute_result"
    }
   ],
   "source": [
    "h.values()"
   ]
  },
  {
   "cell_type": "code",
   "execution_count": 37,
   "id": "e7a735cc",
   "metadata": {},
   "outputs": [
    {
     "data": {
      "text/plain": [
       "4139"
      ]
     },
     "execution_count": 37,
     "metadata": {},
     "output_type": "execute_result"
    }
   ],
   "source": [
    "h.get('sape')"
   ]
  },
  {
   "cell_type": "code",
   "execution_count": 40,
   "id": "18589826",
   "metadata": {},
   "outputs": [
    {
     "data": {
      "text/plain": [
       "4139"
      ]
     },
     "execution_count": 40,
     "metadata": {},
     "output_type": "execute_result"
    }
   ],
   "source": [
    "h['sape']"
   ]
  },
  {
   "cell_type": "code",
   "execution_count": 43,
   "id": "f58d8079",
   "metadata": {},
   "outputs": [],
   "source": [
    "data= {\n",
    "     \"student_1\":{\n",
    "         'name': 'saba',\n",
    "         \"mark\": 35\n",
    "                  },\n",
    "       \"student_2\":{\n",
    "         'name': 'moni',\n",
    "         \"mark\": 35\n",
    "                }\n",
    "    \n",
    "       }"
   ]
  },
  {
   "cell_type": "code",
   "execution_count": 44,
   "id": "49da3442",
   "metadata": {},
   "outputs": [
    {
     "data": {
      "text/plain": [
       "{'student_1': {'name': 'saba', 'mark': 35},\n",
       " 'student_2': {'name': 'moni', 'mark': 35}}"
      ]
     },
     "execution_count": 44,
     "metadata": {},
     "output_type": "execute_result"
    }
   ],
   "source": [
    "data"
   ]
  },
  {
   "cell_type": "code",
   "execution_count": 45,
   "id": "c70ac6f9",
   "metadata": {},
   "outputs": [
    {
     "data": {
      "text/plain": [
       "{'name': 'saba', 'mark': 35}"
      ]
     },
     "execution_count": 45,
     "metadata": {},
     "output_type": "execute_result"
    }
   ],
   "source": [
    "data['student_1']"
   ]
  },
  {
   "cell_type": "code",
   "execution_count": 46,
   "id": "6d919cbb",
   "metadata": {},
   "outputs": [
    {
     "data": {
      "text/plain": [
       "35"
      ]
     },
     "execution_count": 46,
     "metadata": {},
     "output_type": "execute_result"
    }
   ],
   "source": [
    "data['student_1']['mark']"
   ]
  },
  {
   "cell_type": "markdown",
   "id": "9969153a",
   "metadata": {},
   "source": [
    "#  if Statements"
   ]
  },
  {
   "cell_type": "code",
   "execution_count": 150,
   "id": "b85cf4df",
   "metadata": {},
   "outputs": [],
   "source": [
    "a=12"
   ]
  },
  {
   "cell_type": "markdown",
   "id": "3f768b85",
   "metadata": {},
   "source": [
    "elif \n",
    "\n",
    "else :above condition fail\n",
    "\n",
    "if:condition is true run "
   ]
  },
  {
   "cell_type": "code",
   "execution_count": 152,
   "id": "8247d197",
   "metadata": {},
   "outputs": [
    {
     "name": "stdout",
     "output_type": "stream",
     "text": [
      "12\n",
      "values are  22\n"
     ]
    }
   ],
   "source": [
    "if a==10 or 12:\n",
    "    print(a)\n",
    "    c=a+10\n",
    "    print('values are ',c)\n",
    "    \n",
    "elif a==20:\n",
    "    print('value is 20')\n",
    "\n",
    "elif a==20:\n",
    "    print('The value is 10+10')\n",
    "\n",
    "else:\n",
    "    print('The value is greater 10 and the value is :',a)"
   ]
  },
  {
   "cell_type": "markdown",
   "id": "62924858",
   "metadata": {},
   "source": [
    "# loop\n",
    "\n",
    "- for loop\n",
    "\n",
    "- while loop"
   ]
  },
  {
   "cell_type": "code",
   "execution_count": 154,
   "id": "d09d960c",
   "metadata": {},
   "outputs": [],
   "source": [
    "a=['saba','mani','rahul','mahesh','dhanapal','raam','abdul']"
   ]
  },
  {
   "cell_type": "code",
   "execution_count": 155,
   "id": "fc5adc66",
   "metadata": {},
   "outputs": [
    {
     "data": {
      "text/plain": [
       "list"
      ]
     },
     "execution_count": 155,
     "metadata": {},
     "output_type": "execute_result"
    }
   ],
   "source": [
    "type(a)"
   ]
  },
  {
   "cell_type": "code",
   "execution_count": 156,
   "id": "f65df0e6",
   "metadata": {},
   "outputs": [
    {
     "name": "stdout",
     "output_type": "stream",
     "text": [
      "saba\n",
      "mani\n",
      "rahul\n",
      "mahesh\n",
      "dhanapal\n",
      "raam\n",
      "abdul\n"
     ]
    }
   ],
   "source": [
    "for i in a:\n",
    "    print(i)"
   ]
  },
  {
   "cell_type": "code",
   "execution_count": 157,
   "id": "416e65cf",
   "metadata": {},
   "outputs": [],
   "source": [
    "b=[2]"
   ]
  },
  {
   "cell_type": "code",
   "execution_count": 173,
   "id": "41e074ce",
   "metadata": {},
   "outputs": [
    {
     "name": "stdout",
     "output_type": "stream",
     "text": [
      "saba\n",
      "bye\n",
      "mani\n",
      "bye\n",
      "rahul\n",
      "bye\n",
      "mahesh\n",
      "bye\n",
      "dhanapal\n",
      "hi \n",
      "raam\n",
      "hi \n",
      "abdul\n",
      "bye\n",
      " The list is empty\n"
     ]
    }
   ],
   "source": [
    "for i in a:\n",
    "    print(i)\n",
    "    if i == 'dhanapal' or i == 'raam' :\n",
    "        print('hi ')\n",
    "        \n",
    "    else:\n",
    "        print('bye') \n",
    "else:\n",
    "    print(' The list is empty')"
   ]
  },
  {
   "cell_type": "code",
   "execution_count": 2,
   "id": "033caa0c",
   "metadata": {},
   "outputs": [
    {
     "name": "stdout",
     "output_type": "stream",
     "text": [
      "1\n",
      "2\n",
      "3\n",
      "4\n",
      "5\n",
      "6\n",
      "7\n",
      "8\n",
      "9\n"
     ]
    }
   ],
   "source": [
    "i = 1\n",
    "while i < 10:\n",
    "    print(i)\n",
    "    i=i+1"
   ]
  },
  {
   "cell_type": "code",
   "execution_count": null,
   "id": "c463ea3c",
   "metadata": {},
   "outputs": [],
   "source": []
  },
  {
   "cell_type": "code",
   "execution_count": null,
   "id": "e3dcd823",
   "metadata": {},
   "outputs": [],
   "source": []
  },
  {
   "cell_type": "code",
   "execution_count": null,
   "id": "8bddfa3e",
   "metadata": {},
   "outputs": [],
   "source": []
  },
  {
   "cell_type": "code",
   "execution_count": null,
   "id": "148f0b3d",
   "metadata": {},
   "outputs": [],
   "source": []
  },
  {
   "cell_type": "code",
   "execution_count": null,
   "id": "bf9b25df",
   "metadata": {},
   "outputs": [],
   "source": []
  },
  {
   "cell_type": "code",
   "execution_count": null,
   "id": "ae825366",
   "metadata": {},
   "outputs": [],
   "source": []
  },
  {
   "cell_type": "code",
   "execution_count": null,
   "id": "2d0ebeb7",
   "metadata": {},
   "outputs": [],
   "source": []
  },
  {
   "cell_type": "code",
   "execution_count": null,
   "id": "73542689",
   "metadata": {},
   "outputs": [],
   "source": []
  },
  {
   "cell_type": "code",
   "execution_count": null,
   "id": "492553ea",
   "metadata": {},
   "outputs": [],
   "source": []
  },
  {
   "cell_type": "code",
   "execution_count": null,
   "id": "3d04f3f5",
   "metadata": {},
   "outputs": [],
   "source": []
  },
  {
   "cell_type": "code",
   "execution_count": null,
   "id": "187d845a",
   "metadata": {},
   "outputs": [],
   "source": []
  },
  {
   "cell_type": "code",
   "execution_count": null,
   "id": "9059cc94",
   "metadata": {},
   "outputs": [],
   "source": []
  }
 ],
 "metadata": {
  "kernelspec": {
   "display_name": "Python 3 (ipykernel)",
   "language": "python",
   "name": "python3"
  },
  "language_info": {
   "codemirror_mode": {
    "name": "ipython",
    "version": 3
   },
   "file_extension": ".py",
   "mimetype": "text/x-python",
   "name": "python",
   "nbconvert_exporter": "python",
   "pygments_lexer": "ipython3",
   "version": "3.10.7"
  }
 },
 "nbformat": 4,
 "nbformat_minor": 5
}
