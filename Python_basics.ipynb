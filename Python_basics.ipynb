{
 "cells": [
  {
   "cell_type": "markdown",
   "id": "5c559ff5",
   "metadata": {},
   "source": [
    "# Python Basics"
   ]
  },
  {
   "cell_type": "markdown",
   "id": "eb404a96",
   "metadata": {},
   "source": [
    "## Variable - to store data types\n",
    "- not start a number,symbol\n",
    "- no gap\n",
    "- solud in left side and use ' = '\n",
    "- caps variable are different\n",
    "- variables are updatable\n",
    "\n",
    "\n"
   ]
  },
  {
   "cell_type": "code",
   "execution_count": 1,
   "id": "fba12448",
   "metadata": {},
   "outputs": [
    {
     "data": {
      "text/plain": [
       "1"
      ]
     },
     "execution_count": 1,
     "metadata": {},
     "output_type": "execute_result"
    }
   ],
   "source": [
    "a1=1\n",
    "a1          # variable"
   ]
  },
  {
   "cell_type": "code",
   "execution_count": 2,
   "id": "439c43cc",
   "metadata": {},
   "outputs": [],
   "source": [
    "a,b,c=1,2,3"
   ]
  },
  {
   "cell_type": "code",
   "execution_count": 3,
   "id": "86400891",
   "metadata": {},
   "outputs": [
    {
     "name": "stdout",
     "output_type": "stream",
     "text": [
      "1 2 3\n"
     ]
    }
   ],
   "source": [
    "print(a,b,c)"
   ]
  },
  {
   "cell_type": "markdown",
   "id": "26925eb2",
   "metadata": {},
   "source": [
    "# Data Types\n",
    "\n",
    "- int,float,complex_number\n",
    "- str\n",
    "- bool\n",
    "- list,tuple,set,dict\n",
    "\n",
    "\n",
    "To find type of the data use \n",
    "- type(a)"
   ]
  },
  {
   "cell_type": "markdown",
   "id": "d5af75f2",
   "metadata": {},
   "source": [
    "# Number Datatypes\n",
    "## int\n",
    "- whole numbers \n",
    "- example: 2\n",
    "\n",
    "## float\n",
    "- decimal value\n",
    "- example: 2.3\n",
    "\n",
    "## complex_number\n",
    "- example: 1+3J"
   ]
  },
  {
   "cell_type": "code",
   "execution_count": 22,
   "id": "81303a34",
   "metadata": {},
   "outputs": [
    {
     "data": {
      "text/plain": [
       "int"
      ]
     },
     "execution_count": 22,
     "metadata": {},
     "output_type": "execute_result"
    }
   ],
   "source": [
    "a=1\n",
    "type(a)"
   ]
  },
  {
   "cell_type": "code",
   "execution_count": 23,
   "id": "7224cad8",
   "metadata": {},
   "outputs": [
    {
     "data": {
      "text/plain": [
       "float"
      ]
     },
     "execution_count": 23,
     "metadata": {},
     "output_type": "execute_result"
    }
   ],
   "source": [
    "d=3.1\n",
    "type(d)"
   ]
  },
  {
   "cell_type": "code",
   "execution_count": 24,
   "id": "f70ab0a3",
   "metadata": {},
   "outputs": [
    {
     "data": {
      "text/plain": [
       "float"
      ]
     },
     "execution_count": 24,
     "metadata": {},
     "output_type": "execute_result"
    }
   ],
   "source": [
    "s=3.0\n",
    "type(s)"
   ]
  },
  {
   "cell_type": "code",
   "execution_count": 25,
   "id": "bff291ea",
   "metadata": {},
   "outputs": [
    {
     "data": {
      "text/plain": [
       "complex"
      ]
     },
     "execution_count": 25,
     "metadata": {},
     "output_type": "execute_result"
    }
   ],
   "source": [
    "type(1+3J)"
   ]
  },
  {
   "cell_type": "markdown",
   "id": "90ad042e",
   "metadata": {},
   "source": [
    "# Text Type\n",
    "\n",
    "## String (str)\n",
    "- use \" \"\n",
    "- u can use single, dobule or triple \" \""
   ]
  },
  {
   "cell_type": "code",
   "execution_count": 8,
   "id": "7b0c29a0",
   "metadata": {},
   "outputs": [],
   "source": [
    "f='i am happy'"
   ]
  },
  {
   "cell_type": "code",
   "execution_count": 9,
   "id": "4e251b4a",
   "metadata": {},
   "outputs": [
    {
     "data": {
      "text/plain": [
       "'i am happy'"
      ]
     },
     "execution_count": 9,
     "metadata": {},
     "output_type": "execute_result"
    }
   ],
   "source": [
    "f"
   ]
  },
  {
   "cell_type": "code",
   "execution_count": 10,
   "id": "8b4d1fb2",
   "metadata": {},
   "outputs": [
    {
     "data": {
      "text/plain": [
       "str"
      ]
     },
     "execution_count": 10,
     "metadata": {},
     "output_type": "execute_result"
    }
   ],
   "source": [
    "type(f)"
   ]
  },
  {
   "cell_type": "code",
   "execution_count": 20,
   "id": "d61c35fe",
   "metadata": {},
   "outputs": [
    {
     "data": {
      "text/plain": [
       "\"dad's money\""
      ]
     },
     "execution_count": 20,
     "metadata": {},
     "output_type": "execute_result"
    }
   ],
   "source": [
    "g= \"dad's money\"\n",
    "g"
   ]
  },
  {
   "cell_type": "markdown",
   "id": "66c3b95a",
   "metadata": {},
   "source": [
    "# Index\n",
    "- starts with 0\n",
    "- use[ ]\n",
    "- include white space while indexing"
   ]
  },
  {
   "cell_type": "code",
   "execution_count": 31,
   "id": "73201c5e",
   "metadata": {},
   "outputs": [],
   "source": [
    "f='i am happy'"
   ]
  },
  {
   "cell_type": "code",
   "execution_count": 32,
   "id": "2424a903",
   "metadata": {},
   "outputs": [
    {
     "data": {
      "text/plain": [
       "'i'"
      ]
     },
     "execution_count": 32,
     "metadata": {},
     "output_type": "execute_result"
    }
   ],
   "source": [
    "f[0]"
   ]
  },
  {
   "cell_type": "code",
   "execution_count": 33,
   "id": "fc76040a",
   "metadata": {},
   "outputs": [
    {
     "data": {
      "text/plain": [
       "' '"
      ]
     },
     "execution_count": 33,
     "metadata": {},
     "output_type": "execute_result"
    }
   ],
   "source": [
    "f[1]"
   ]
  },
  {
   "cell_type": "markdown",
   "id": "44590d51",
   "metadata": {},
   "source": [
    "# String Slicing\n",
    "- while slicing u need to add exta index (end)"
   ]
  },
  {
   "cell_type": "code",
   "execution_count": 60,
   "id": "65d9fe4d",
   "metadata": {},
   "outputs": [
    {
     "data": {
      "text/plain": [
       "'walk'"
      ]
     },
     "execution_count": 60,
     "metadata": {},
     "output_type": "execute_result"
    }
   ],
   "source": [
    "f='dance walk'\n",
    "f[6:10]"
   ]
  },
  {
   "cell_type": "code",
   "execution_count": null,
   "id": "1129fabc",
   "metadata": {},
   "outputs": [],
   "source": []
  }
 ],
 "metadata": {
  "kernelspec": {
   "display_name": "Python 3 (ipykernel)",
   "language": "python",
   "name": "python3"
  },
  "language_info": {
   "codemirror_mode": {
    "name": "ipython",
    "version": 3
   },
   "file_extension": ".py",
   "mimetype": "text/x-python",
   "name": "python",
   "nbconvert_exporter": "python",
   "pygments_lexer": "ipython3",
   "version": "3.10.7"
  }
 },
 "nbformat": 4,
 "nbformat_minor": 5
}
